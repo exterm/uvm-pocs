{
 "cells": [
  {
   "cell_type": "code",
   "execution_count": 1,
   "id": "f20dafa7",
   "metadata": {},
   "outputs": [],
   "source": [
    "import pandas as pd\n",
    "import numpy as np\n",
    "import matplotlib.pyplot as plt"
   ]
  },
  {
   "cell_type": "code",
   "execution_count": 4,
   "id": "edbbef3f",
   "metadata": {},
   "outputs": [
    {
     "data": {
      "text/html": [
       "<div>\n",
       "<style scoped>\n",
       "    .dataframe tbody tr th:only-of-type {\n",
       "        vertical-align: middle;\n",
       "    }\n",
       "\n",
       "    .dataframe tbody tr th {\n",
       "        vertical-align: top;\n",
       "    }\n",
       "\n",
       "    .dataframe thead th {\n",
       "        text-align: right;\n",
       "    }\n",
       "</style>\n",
       "<table border=\"1\" class=\"dataframe\">\n",
       "  <thead>\n",
       "    <tr style=\"text-align: right;\">\n",
       "      <th></th>\n",
       "      <th>Axis</th>\n",
       "      <th>Period</th>\n",
       "    </tr>\n",
       "  </thead>\n",
       "  <tbody>\n",
       "    <tr>\n",
       "      <th>0</th>\n",
       "      <td>0.38710</td>\n",
       "      <td>87.9693</td>\n",
       "    </tr>\n",
       "    <tr>\n",
       "      <th>1</th>\n",
       "      <td>0.72333</td>\n",
       "      <td>224.7008</td>\n",
       "    </tr>\n",
       "    <tr>\n",
       "      <th>2</th>\n",
       "      <td>1.00000</td>\n",
       "      <td>365.2564</td>\n",
       "    </tr>\n",
       "    <tr>\n",
       "      <th>3</th>\n",
       "      <td>1.52366</td>\n",
       "      <td>686.9796</td>\n",
       "    </tr>\n",
       "    <tr>\n",
       "      <th>4</th>\n",
       "      <td>5.20336</td>\n",
       "      <td>4332.8201</td>\n",
       "    </tr>\n",
       "    <tr>\n",
       "      <th>5</th>\n",
       "      <td>9.53707</td>\n",
       "      <td>10775.5990</td>\n",
       "    </tr>\n",
       "    <tr>\n",
       "      <th>6</th>\n",
       "      <td>19.19130</td>\n",
       "      <td>30687.1530</td>\n",
       "    </tr>\n",
       "    <tr>\n",
       "      <th>7</th>\n",
       "      <td>30.06900</td>\n",
       "      <td>60190.0300</td>\n",
       "    </tr>\n",
       "  </tbody>\n",
       "</table>\n",
       "</div>"
      ],
      "text/plain": [
       "       Axis      Period\n",
       "0   0.38710     87.9693\n",
       "1   0.72333    224.7008\n",
       "2   1.00000    365.2564\n",
       "3   1.52366    686.9796\n",
       "4   5.20336   4332.8201\n",
       "5   9.53707  10775.5990\n",
       "6  19.19130  30687.1530\n",
       "7  30.06900  60190.0300"
      ]
     },
     "execution_count": 4,
     "metadata": {},
     "output_type": "execute_result"
    }
   ],
   "source": [
    "data = {'Axis': [0.38710, 0.72333, 1, 1.52366, 5.20336, 9.53707, 19.1913, 30.0690], 'Period': [87.9693, 224.7008, 365.2564, 686.9796, 4332.8201, 10775.599, 30687.153, 60190.03]}\n",
    "\n",
    "frame = pd.DataFrame(data)\n",
    "frame"
   ]
  },
  {
   "cell_type": "code",
   "execution_count": 5,
   "id": "4e866088",
   "metadata": {},
   "outputs": [
    {
     "data": {
      "text/plain": [
       "<AxesSubplot:xlabel='Axis'>"
      ]
     },
     "execution_count": 5,
     "metadata": {},
     "output_type": "execute_result"
    },
    {
     "data": {
      "image/png": "[encoded data removed]",
      "text/plain": [
       "<Figure size 640x480 with 1 Axes>"
      ]
     },
     "metadata": {},
     "output_type": "display_data"
    }
   ],
   "source": [
    "frame.plot(y='Period', x='Axis')"
   ]
  },
  {
   "cell_type": "code",
   "execution_count": 38,
   "id": "4007d40e",
   "metadata": {},
   "outputs": [],
   "source": [
    "import math\n",
    "\n",
    "def predict(x, model):\n",
    "  log_prediction = model.predict(np.array([math.log10(x)]).reshape(-1, 1))[0]\n",
    "  prediction = pow(10.0, log_prediction)\n",
    "  print(f\"prediction: {prediction}\")\n",
    "  return prediction\n",
    "\n",
    "def regress(x, y):\n",
    "  model = LinearRegression()\n",
    "\n",
    "  # log-log\n",
    "  x_log = np.log10(x)\n",
    "  y_log = np.log10(y)\n",
    "\n",
    "  model.fit(x_log.reshape(-1, 1), y_log)\n",
    "\n",
    "  r_sq = model.score(x_log.reshape(-1, 1), y_log)\n",
    "  print(f\"coefficient of determination: {r_sq}\")\n",
    "  print(f\"intercept: {model.intercept_}\")\n",
    "  print(f\"slope: {model.coef_}\")\n",
    "\n",
    "  this_normalize = lambda pair: normalize(pair, model)\n",
    "\n",
    "  zipped_array = np.array(list(zip(x, y)))\n",
    "  # print(f\"Zipped: {zipped_array}\")\n",
    "\n",
    "  return model"
   ]
  },
  {
   "cell_type": "code",
   "execution_count": 39,
   "id": "158c4367",
   "metadata": {},
   "outputs": [
    {
     "name": "stdout",
     "output_type": "stream",
     "text": [
      "coefficient of determination: 0.9999999062866357\n",
      "intercept: 2.562618016333121\n",
      "slope: [1.49994412]\n"
     ]
    }
   ],
   "source": [
    "model = regress(frame[\"Axis\"].to_numpy(), frame[\"Period\"].to_numpy())"
   ]
  },
  {
   "cell_type": "code",
   "execution_count": 40,
   "id": "4c39f089",
   "metadata": {},
   "outputs": [
    {
     "name": "stdout",
     "output_type": "stream",
     "text": [
      "prediction: 87.97834844385586\n",
      "prediction: 224.7142393526398\n",
      "prediction: 365.2733741238538\n",
      "prediction: 686.9733606836087\n",
      "prediction: 4335.1467431578585\n",
      "prediction: 10756.865633786983\n",
      "prediction: 30704.56227136916\n",
      "prediction: 60216.27679218688\n"
     ]
    },
    {
     "data": {
      "text/html": [
       "<div>\n",
       "<style scoped>\n",
       "    .dataframe tbody tr th:only-of-type {\n",
       "        vertical-align: middle;\n",
       "    }\n",
       "\n",
       "    .dataframe tbody tr th {\n",
       "        vertical-align: top;\n",
       "    }\n",
       "\n",
       "    .dataframe thead th {\n",
       "        text-align: right;\n",
       "    }\n",
       "</style>\n",
       "<table border=\"1\" class=\"dataframe\">\n",
       "  <thead>\n",
       "    <tr style=\"text-align: right;\">\n",
       "      <th></th>\n",
       "      <th>Axis</th>\n",
       "      <th>Period</th>\n",
       "      <th>Regression</th>\n",
       "    </tr>\n",
       "  </thead>\n",
       "  <tbody>\n",
       "    <tr>\n",
       "      <th>0</th>\n",
       "      <td>0.38710</td>\n",
       "      <td>87.9693</td>\n",
       "      <td>87.978348</td>\n",
       "    </tr>\n",
       "    <tr>\n",
       "      <th>1</th>\n",
       "      <td>0.72333</td>\n",
       "      <td>224.7008</td>\n",
       "      <td>224.714239</td>\n",
       "    </tr>\n",
       "    <tr>\n",
       "      <th>2</th>\n",
       "      <td>1.00000</td>\n",
       "      <td>365.2564</td>\n",
       "      <td>365.273374</td>\n",
       "    </tr>\n",
       "    <tr>\n",
       "      <th>3</th>\n",
       "      <td>1.52366</td>\n",
       "      <td>686.9796</td>\n",
       "      <td>686.973361</td>\n",
       "    </tr>\n",
       "    <tr>\n",
       "      <th>4</th>\n",
       "      <td>5.20336</td>\n",
       "      <td>4332.8201</td>\n",
       "      <td>4335.146743</td>\n",
       "    </tr>\n",
       "    <tr>\n",
       "      <th>5</th>\n",
       "      <td>9.53707</td>\n",
       "      <td>10775.5990</td>\n",
       "      <td>10756.865634</td>\n",
       "    </tr>\n",
       "    <tr>\n",
       "      <th>6</th>\n",
       "      <td>19.19130</td>\n",
       "      <td>30687.1530</td>\n",
       "      <td>30704.562271</td>\n",
       "    </tr>\n",
       "    <tr>\n",
       "      <th>7</th>\n",
       "      <td>30.06900</td>\n",
       "      <td>60190.0300</td>\n",
       "      <td>60216.276792</td>\n",
       "    </tr>\n",
       "  </tbody>\n",
       "</table>\n",
       "</div>"
      ],
      "text/plain": [
       "       Axis      Period    Regression\n",
       "0   0.38710     87.9693     87.978348\n",
       "1   0.72333    224.7008    224.714239\n",
       "2   1.00000    365.2564    365.273374\n",
       "3   1.52366    686.9796    686.973361\n",
       "4   5.20336   4332.8201   4335.146743\n",
       "5   9.53707  10775.5990  10756.865634\n",
       "6  19.19130  30687.1530  30704.562271\n",
       "7  30.06900  60190.0300  60216.276792"
      ]
     },
     "execution_count": 40,
     "metadata": {},
     "output_type": "execute_result"
    }
   ],
   "source": [
    "# frame.insert(2, 'Regression', frame[\"Axis\"].map(lambda x: predict(x, model)))\n",
    "frame[\"Regression\"] = frame[\"Axis\"].map(lambda x: predict(x, model))\n",
    "frame"
   ]
  },
  {
   "cell_type": "code",
   "execution_count": 51,
   "id": "6e0ad65d",
   "metadata": {},
   "outputs": [
    {
     "data": {
      "text/plain": [
       "<AxesSubplot:xlabel='Axis'>"
      ]
     },
     "execution_count": 51,
     "metadata": {},
     "output_type": "execute_result"
    },
    {
     "data": {
      "image/png": "[encoded data removed]",
      "text/plain": [
       "<Figure size 640x480 with 1 Axes>"
      ]
     },
     "metadata": {},
     "output_type": "display_data"
    }
   ],
   "source": [
    "ax = frame.plot(x='Axis', y='Period', logx=True, logy=True)\n",
    "frame.plot(x='Axis', y='Regression',color='Red', style='-.',ax=ax)"
   ]
  },
  {
   "cell_type": "code",
   "execution_count": null,
   "id": "fac27e15",
   "metadata": {},
   "outputs": [],
   "source": []
  }
 ],
 "metadata": {
  "kernelspec": {
   "display_name": "Python 3 (ipykernel)",
   "language": "python",
   "name": "python3"
  },
  "language_info": {
   "codemirror_mode": {
    "name": "ipython",
    "version": 3
   },
   "file_extension": ".py",
   "mimetype": "text/x-python",
   "name": "python",
   "nbconvert_exporter": "python",
   "pygments_lexer": "ipython3",
   "version": "3.10.6"
  }
 },
 "nbformat": 4,
 "nbformat_minor": 5
}
