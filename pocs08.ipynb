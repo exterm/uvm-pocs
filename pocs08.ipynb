{
  "nbformat": 4,
  "nbformat_minor": 0,
  "metadata": {
    "colab": {
      "provenance": [],
      "collapsed_sections": [],
      "include_colab_link": true
    },
    "kernelspec": {
      "name": "python3",
      "display_name": "Python 3"
    },
    "language_info": {
      "name": "python"
    }
  },
  "cells": [
    {
      "cell_type": "markdown",
      "metadata": {
        "id": "view-in-github",
        "colab_type": "text"
      },
      "source": [
        "<a href=\"https://colab.research.google.com/github/exterm/uvm-pocs/blob/main/pocs08.ipynb\" target=\"_parent\"><img src=\"https://colab.research.google.com/assets/colab-badge.svg\" alt=\"Open In Colab\"/></a>"
      ]
    },
    {
      "cell_type": "code",
      "execution_count": 2,
      "metadata": {
        "id": "hWDmABUziOd0"
      },
      "outputs": [],
      "source": [
        "import numpy as np\n",
        "import matplotlib as plt \n",
        "import random\n",
        "from matplotlib import cm\n",
        "from IPython import display\n",
        "from time import sleep\n",
        "from scipy import ndimage\n",
        "import matplotlib.pyplot as plt"
      ]
    },
    {
      "cell_type": "markdown",
      "source": [
        "#Model"
      ],
      "metadata": {
        "id": "FcahUHYEwrD9"
      }
    },
    {
      "cell_type": "markdown",
      "source": [
        "## Functions to perform percolation\n"
      ],
      "metadata": {
        "id": "eADq75N2xOYE"
      }
    },
    {
      "cell_type": "code",
      "source": [
        "# Site percolation\n",
        "def run_percolation(world, probability):\n",
        "    N1 = world.shape[0]\n",
        "    N2 = world.shape[1]\n",
        "    for i in range(N1): #for cell in every row\n",
        "        for j in range(N2): #and every column\n",
        "            die = random.uniform(0, 1)\n",
        "            if die < probability:\n",
        "              world[(i,j)] = 1\n",
        "            else:\n",
        "              world[(i,j)] = 0\n",
        "\n",
        "    return (world)"
      ],
      "metadata": {
        "id": "F5yjP7XXw7kM"
      },
      "execution_count": 3,
      "outputs": []
    },
    {
      "cell_type": "markdown",
      "source": [
        "Percolation in two dimensions (2-d) on a simple square lattice provides a\n",
        "classic, nutritious example of a phase transition.\n",
        "\n",
        "Your mission, whether or not you choose to accept it, is to code up and\n",
        "analyse the L by L square lattice percolation model for varying L.\n",
        "Take L = 20, 50, 100, 200, 500, and 1000.\n",
        "\n",
        "(Go higher if you feel L = 1000 is for mere mortals.)\n",
        "(Go lower if your code explodes.)\n",
        "\n",
        "Let’s continue with the tree obsession. A site has a tree with probability p,\n",
        "and a sheep grazing on what’s left of a tree with probability 1 − p.\n",
        "Forests are defined as any connected component of trees bordered by sheep,\n",
        "where connections are possible with a site’s four nearest neighbors on a\n",
        "lattice.\n",
        "\n",
        "Each square lattice is to be considered as a landscape on which forests and\n",
        "sheep co-exist.\n",
        "\n",
        "Do not bagelize (or doughnutize) the landscape (no periodic boundary\n",
        "conditions—boundaries are boundaries).\n",
        "\n",
        "(Note: this set up is called site percolation. Bond percolation is the alternate\n",
        "case when all links between neighboring sites exist with probability p.)\n",
        "Steps:\n",
        "7\n"
      ],
      "metadata": {
        "id": "0d2JNr873JMW"
      }
    },
    {
      "cell_type": "markdown",
      "source": [
        "For each L, run Ntests=100 tests for occupation probability p moving\n",
        "from 0 to 1 in increments of 10−2. (As for L, you may use a smaller or\n",
        "larger increment depending on how things go.)"
      ],
      "metadata": {
        "id": "vDMM3NTD2cBb"
      }
    },
    {
      "cell_type": "code",
      "source": [
        "#@title Visualize percolation { run: \"auto\" }\n",
        "\n",
        "# Parameters \n",
        "#L = 20, 50, 100, 200, 500, and 1000\n",
        "#N is  height, width\n",
        "N2 = 20 #@param {type:\"slider\", min:20, max:1000, step:10} \n",
        "N1 = 20 #@param {type:\"slider\", min:20, max:1000, step:10} \n",
        "# occupation probability\n",
        "probability_tree = 0.1 #@param {type:\"slider\", min:0, max:1, step:0.1}\n",
        "# sheep_grazing = 1 - probability_tree\n",
        "#initial conditions of zero\n",
        "world = np.zeros((N1,N2))\n",
        "\n",
        "world = run_percolation(world,probability_tree) #run model\n",
        "\n",
        "# Set up the figure\n",
        "fig, (ax1, ax2) = plt.subplots(1, 2, figsize=(14, 7))\n",
        "ax1.set_ylim(0,N1)\n",
        "ax1.set_xlim(0,N2)\n",
        "ax2.set_ylim(0,N1)\n",
        "ax2.set_xlim(0,N2)\n",
        "ax1.set_aspect('equal')\n",
        "ax2.set_aspect('equal')\n",
        "\n",
        "#filter largest cluster\n",
        "structure = [[0,1,0],[1,1,1],[0,1,0]] #define connection\n",
        "label_world, nb_labels = ndimage.label(world,structure) #label clusters\n",
        "sizes = ndimage.sum(world, label_world, range(nb_labels + 1))\n",
        "mask = sizes >= sizes.max()\n",
        "binary_img = mask[label_world]\n",
        "\n",
        "# Plot the world\n",
        "ax1.imshow((world), cmap=plt.get_cmap(cm.bone), origin = 'lower')\n",
        "ax2.imshow(binary_img, cmap=plt.get_cmap(cm.bone), origin = 'lower')\n",
        "\n",
        "# Add label\n",
        "ax1.text(2, N1+5, f'Site percolation with probability {probability_tree}', color='Orange', fontsize=18)\n",
        "ax2.text(2, N1+5, f'Largest cluster found', color='Orange', fontsize=18)\n",
        "plt.show()"
      ],
      "metadata": {
        "colab": {
          "base_uri": "https://localhost:8080/",
          "height": 506
        },
        "id": "EbKuj_uww9Cu",
        "outputId": "833aae81-9ccf-401a-b909-c8f76f43d77a"
      },
      "execution_count": null,
      "outputs": [
        {
          "output_type": "display_data",
          "data": {
            "text/plain": [
              "<Figure size 1008x504 with 2 Axes>"
            ],
            "image/png": "[encoded data removed]"
          },
          "metadata": {
            "needs_background": "light"
          }
        }
      ]
    },
    {
      "cell_type": "code",
      "source": [
        "structure"
      ],
      "metadata": {
        "colab": {
          "base_uri": "https://localhost:8080/"
        },
        "id": "fREa91YF87Ci",
        "outputId": "d36d3b71-78ff-45fe-d622-0c705d40a785"
      },
      "execution_count": null,
      "outputs": [
        {
          "output_type": "execute_result",
          "data": {
            "text/plain": [
              "[[0, 1, 0], [1, 1, 1], [0, 1, 0]]"
            ]
          },
          "metadata": {},
          "execution_count": 50
        }
      ]
    },
    {
      "cell_type": "markdown",
      "source": [
        "determine the fractional size of the largest connected forest for each of\n",
        "the Ntests, and find the average of these, Savg."
      ],
      "metadata": {
        "id": "xOJ3Thm82iZR"
      }
    },
    {
      "cell_type": "code",
      "source": [
        "# largest cluster / world size \n",
        "\n",
        "# for every l \n",
        "\n",
        "# for p in range 0 to 1 \n",
        "\n",
        "# for tries in range 100 \n",
        "\n",
        "# create array that saves 100 numbers \n",
        "\n",
        "# plot the points "
      ],
      "metadata": {
        "id": "oSrQyv3A2jKA"
      },
      "execution_count": null,
      "outputs": []
    },
    {
      "cell_type": "markdown",
      "source": [
        "On a single figure, for each L, plot the average Savg as a function of p."
      ],
      "metadata": {
        "id": "Xod_x0JJ2jR1"
      }
    },
    {
      "cell_type": "code",
      "source": [
        "import matplotlib.pyplot as plt\n",
        "\n",
        "def create_percolated_world(size, density):\n",
        "  return np.random.choice([0,1], size=(size, size), p=[1-density, density])\n",
        "\n",
        "Ls = [20, 50, 100, 200, 500, 1000]\n",
        "colors = ['#edf8fb', '#ccece6', '#99d8c9', '#66c2a4', '#2ca25f', '#006d2c']\n",
        "\n",
        "#define neighborhood\n",
        "structure = [[0,1,0],[1,1,1],[0,1,0]] #define connection\n",
        "\n",
        "plots = {}\n",
        "\n",
        "#for every lattice size\n",
        "for l in range(len(Ls)):\n",
        "  L = Ls[l]\n",
        "  print(f\"L: {L}\")\n",
        "\n",
        "  for p in np.arange(0,1,0.01):\n",
        "    print(\".\", end='')\n",
        "\n",
        "    S = []\n",
        "    for n in range(100):\n",
        "\n",
        "        world = create_percolated_world(L, p)\n",
        "\n",
        "        #filter largest cluster\n",
        "        label_world, nb_labels = ndimage.label(world,structure) #label clusters\n",
        "        sizes = ndimage.sum(world, label_world, range(nb_labels + 1))\n",
        "        S.append(sizes.max()/(L*L))\n",
        "\n",
        "    # plot the mean of the maxima\n",
        "    plots[l] = plt.scatter(p,np.mean(S),color=colors[l], label=f'L = {L}')\n",
        "  print()\n",
        "\n",
        "print(plots)\n",
        "\n",
        "plt.legend(handles=plots.values())\n",
        "plt.ylabel('$S_{\\\\rm avg}$')\n",
        "plt.xlabel('Density')\n",
        "plt.title(\"Investigating the critical percolation density threshold\")\n",
        "plt.savefig(\"critical_density.png\", dpi=600)"
      ],
      "metadata": {
        "colab": {
          "base_uri": "https://localhost:8080/",
          "height": 541
        },
        "outputId": "ec811c8f-71c2-44de-8f52-2f5d91cd5139",
        "id": "qlWw-BBnF7c8"
      },
      "execution_count": 84,
      "outputs": [
        {
          "output_type": "stream",
          "name": "stdout",
          "text": [
            "L: 20\n",
            "....................................................................................................\n",
            "L: 50\n",
            "....................................................................................................\n",
            "L: 100\n",
            "....................................................................................................\n",
            "L: 200\n",
            "....................................................................................................\n",
            "L: 500\n",
            "....................................................................................................\n",
            "L: 1000\n",
            "....................................................................................................\n",
            "{0: <matplotlib.collections.PathCollection object at 0x7fa6aeac3a50>, 1: <matplotlib.collections.PathCollection object at 0x7fa6af596250>, 2: <matplotlib.collections.PathCollection object at 0x7fa6ae236b10>, 3: <matplotlib.collections.PathCollection object at 0x7fa6a460cad0>, 4: <matplotlib.collections.PathCollection object at 0x7fa6beff7950>, 5: <matplotlib.collections.PathCollection object at 0x7fa6bc1dcad0>}\n"
          ]
        },
        {
          "output_type": "display_data",
          "data": {
            "text/plain": [
              "<Figure size 432x288 with 1 Axes>"
            ],
            "image/png": "[encoded data removed]"
          },
          "metadata": {
            "needs_background": "light"
          }
        }
      ]
    },
    {
      "cell_type": "markdown",
      "source": [
        "Comment on how Savg(p; N ) changes as a function of L and estimate the\n",
        "critical probability pc (the percolation threshold)."
      ],
      "metadata": {
        "id": "S6fUEFsU2nnl"
      }
    },
    {
      "cell_type": "markdown",
      "source": [
        "Comment: "
      ],
      "metadata": {
        "id": "gbFIhI9vDjio"
      }
    },
    {
      "cell_type": "markdown",
      "source": [
        "#question 5"
      ],
      "metadata": {
        "id": "C42VBSfwws8R"
      }
    },
    {
      "cell_type": "markdown",
      "source": [
        "5a. using your model from the previous question and your estimate of pc, plot\n",
        "the distribution of forest sizes (meaning cluster sizes) for p ≃ pc for the\n",
        "largest L your code and psychological makeup can withstand. (You can\n",
        "average the distribution over separate simulations.)\n",
        "Comment on what kind of distribution you find."
      ],
      "metadata": {
        "id": "U3ST8_0njLsC"
      }
    },
    {
      "cell_type": "code",
      "source": [
        "#plot the distribution of forest sizes for p = pc\n",
        "from collections import defaultdict\n",
        "import pandas as pd\n",
        "\n",
        "def plot_size_distribution(p,L,repetitions,filename, title):\n",
        "  S = defaultdict(int)\n",
        "  print(\"|\" + \".\"*repetitions + \"|\")\n",
        "  print(\"|\", end=\"\")\n",
        "  for n in range(repetitions):\n",
        "    print(\".\", end=\"\")\n",
        "\n",
        "    #run model\n",
        "    world = create_percolated_world(L, p)\n",
        "\n",
        "  #  filter largest cluster\n",
        "    label_world, nb_labels = ndimage.label(world,structure) #label clusters\n",
        "    sizes = ndimage.sum(world, label_world, range(nb_labels + 1))\n",
        "    for s in sizes:\n",
        "      S[s] += 1\n",
        "\n",
        "  print(\"|\")\n",
        "  plt.loglog(10)\n",
        "\n",
        "  df = pd.DataFrame.from_dict(S, orient='index', columns=['Count'])\n",
        "\n",
        "  plt.plot(df, 'o', lw=0)\n",
        "  plt.xlabel('$S$')\n",
        "  plt.ylabel('Frequency')\n",
        "  plt.title(title)\n",
        "  plt.savefig(filename, dpi=600)\n"
      ],
      "metadata": {
        "id": "Ldq91EgdjPEM"
      },
      "execution_count": 78,
      "outputs": []
    },
    {
      "cell_type": "code",
      "source": [
        "plot_size_distribution(0.59, 1000, 100, \"size_distribution5a.png\", \"Size distribution near critical density\")"
      ],
      "metadata": {
        "colab": {
          "base_uri": "https://localhost:8080/",
          "height": 336
        },
        "id": "MSHaqAHOsxJ1",
        "outputId": "8931f089-ad44-499c-9bc2-f946a5d18f3f"
      },
      "execution_count": 79,
      "outputs": [
        {
          "output_type": "stream",
          "name": "stdout",
          "text": [
            "|....................................................................................................|\n",
            "|....................................................................................................|\n"
          ]
        },
        {
          "output_type": "display_data",
          "data": {
            "text/plain": [
              "<Figure size 432x288 with 1 Axes>"
            ],
            "image/png": "[encoded data removed]"
          },
          "metadata": {
            "needs_background": "light"
          }
        }
      ]
    },
    {
      "cell_type": "markdown",
      "source": [
        "Comment: "
      ],
      "metadata": {
        "id": "l6_-22E9Drl9"
      }
    },
    {
      "cell_type": "markdown",
      "source": [
        "5b. repeat the above for p = pc/2 and p = pc + (1 − pc)/2, i.e., well below and\n",
        "well above pc.\n",
        "Produce plots for both cases, and again, comment on what you find"
      ],
      "metadata": {
        "id": "YrVOKs0ujPfi"
      }
    },
    {
      "cell_type": "code",
      "source": [
        "plot_size_distribution(0.59/2, 1000, 100, \"size_distribution5b1.png\", \"Size distribution below critical density\")"
      ],
      "metadata": {
        "id": "vLl-vQXdjUmn",
        "colab": {
          "base_uri": "https://localhost:8080/",
          "height": 336
        },
        "outputId": "080cc584-9429-4995-cce0-254bba2371b7"
      },
      "execution_count": 81,
      "outputs": [
        {
          "output_type": "stream",
          "name": "stdout",
          "text": [
            "|....................................................................................................|\n",
            "|....................................................................................................|\n"
          ]
        },
        {
          "output_type": "display_data",
          "data": {
            "text/plain": [
              "<Figure size 432x288 with 1 Axes>"
            ],
            "image/png": "[encoded data removed]"
          },
          "metadata": {
            "needs_background": "light"
          }
        }
      ]
    },
    {
      "cell_type": "code",
      "source": [
        "pc = 0.59\n",
        "p = pc + (1 - pc)/2\n",
        "\n",
        "plot_size_distribution(p, 1000, 100, \"size_distribution5b2.png\", \"Size distribution above critical density\")"
      ],
      "metadata": {
        "colab": {
          "base_uri": "https://localhost:8080/",
          "height": 336
        },
        "id": "ocQC-NIqH2Qy",
        "outputId": "eced0382-38cc-4c53-8481-19b3762615ac"
      },
      "execution_count": 80,
      "outputs": [
        {
          "output_type": "stream",
          "name": "stdout",
          "text": [
            "|....................................................................................................|\n",
            "|....................................................................................................|\n"
          ]
        },
        {
          "output_type": "display_data",
          "data": {
            "text/plain": [
              "<Figure size 432x288 with 1 Axes>"
            ],
            "image/png": "[encoded data removed]"
          },
          "metadata": {
            "needs_background": "light"
          }
        }
      ]
    },
    {
      "cell_type": "markdown",
      "source": [
        "Comment: "
      ],
      "metadata": {
        "id": "53CFgMkkDtbr"
      }
    }
  ]
}