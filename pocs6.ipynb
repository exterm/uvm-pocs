{
  "nbformat": 4,
  "nbformat_minor": 0,
  "metadata": {
    "colab": {
      "provenance": [],
      "collapsed_sections": [
        "-YJRP6XuTiYP",
        "6Dg1VTsyRtOO",
        "6nVxn30nRul_",
        "6M5OXP3_sO5L",
        "Vz_GJUcxsJTG"
      ],
      "toc_visible": true,
      "include_colab_link": true
    },
    "kernelspec": {
      "name": "python3",
      "display_name": "Python 3"
    },
    "language_info": {
      "name": "python"
    }
  },
  "cells": [
    {
      "cell_type": "markdown",
      "metadata": {
        "id": "view-in-github",
        "colab_type": "text"
      },
      "source": [
        "<a href=\"https://colab.research.google.com/github/exterm/uvm-pocs/blob/main/pocs6.ipynb\" target=\"_parent\"><img src=\"https://colab.research.google.com/assets/colab-badge.svg\" alt=\"Open In Colab\"/></a>"
      ]
    },
    {
      "cell_type": "markdown",
      "source": [
        "#imports"
      ],
      "metadata": {
        "id": "2OmJiNmrRoJO"
      }
    },
    {
      "cell_type": "code",
      "execution_count": null,
      "metadata": {
        "id": "uH07rTm2RgBs"
      },
      "outputs": [],
      "source": [
        "#plotting\n",
        "import plotly.express as px\n",
        "import plotly.graph_objects as go\n",
        "import matplotlib.pyplot as plt\n",
        "import seaborn as sns \n",
        "\n",
        "import pandas as pd # library for data analysis\n",
        "import numpy as np\n",
        "import scipy.stats as stats\n",
        "import scipy\n",
        "\n",
        "import statsmodels.api as sm\n",
        "import statsmodels.formula.api as smf\n",
        "from scipy.stats import t"
      ]
    },
    {
      "cell_type": "markdown",
      "source": [
        "## Initialize Filesystem"
      ],
      "metadata": {
        "id": "PoRVQxRmTbwW"
      }
    },
    {
      "cell_type": "code",
      "source": [
        "from google.colab import drive\n",
        "import os\n",
        "\n",
        "drive.mount('/content/drive')\n",
        "\n",
        "# create directory for this assignment\n",
        "try: \n",
        "    os.mkdir('/content/drive/MyDrive/pocs/06/') \n",
        "except OSError as error: \n",
        "    print(error)"
      ],
      "metadata": {
        "colab": {
          "base_uri": "https://localhost:8080/"
        },
        "id": "Qqh3c2NMTclu",
        "outputId": "198ea782-d9c4-42f3-f9eb-943a521700f5"
      },
      "execution_count": null,
      "outputs": [
        {
          "output_type": "stream",
          "name": "stdout",
          "text": [
            "Mounted at /content/drive\n",
            "[Errno 17] File exists: '/content/drive/MyDrive/pocs/06/'\n"
          ]
        }
      ]
    },
    {
      "cell_type": "markdown",
      "source": [
        "# Fetch Data"
      ],
      "metadata": {
        "id": "-YJRP6XuTiYP"
      }
    },
    {
      "cell_type": "code",
      "source": [
        "\n",
        "filepath_ulysses = 'https://pdodds.w3.uvm.edu/teaching/courses/2022-2023pocsverse/docs/ulysses.txt'\n",
        "\n",
        "pride_txt = pd.read_fwf('/content/drive/MyDrive/pocs/06/pg42671.txt')\n",
        "monte_txt = pd.read_fwf('/content/drive/MyDrive/pocs/06/17989-0.txt')\n",
        "ulysses = pd.read_csv(filepath_ulysses, header=None, sep=':', names=['word', 'word_frequency'])"
      ],
      "metadata": {
        "id": "hGdeSS9KTgmX"
      },
      "execution_count": null,
      "outputs": []
    },
    {
      "cell_type": "markdown",
      "source": [
        "# Q2 Code up Simon’s rich-gets-richer model.\n",
        "Show Zipf distributions for ρ = 0.10, 0.01, and 0.001. and perform regressions to\n",
        "test α = 1 − ρ.\n",
        "Run the simulation for long enough to produce decent scaling laws (recall: three\n",
        "orders of magnitude is good).\n",
        "Averaging over simulations will produce cleaner results so try 10 and then, if\n",
        "possible, 100.\n",
        "Note the first mover advantage."
      ],
      "metadata": {
        "id": "q0OJ7zJQRnSh"
      }
    },
    {
      "cell_type": "code",
      "source": [
        "from collections import Counter\n",
        "from random import random\n",
        "import numpy as np\n",
        "import scipy.stats as st"
      ],
      "metadata": {
        "id": "ZciuZKH5RtDm"
      },
      "execution_count": null,
      "outputs": []
    },
    {
      "cell_type": "markdown",
      "source": [
        "Step 1: Code Simon's Rich Get Richer Model "
      ],
      "metadata": {
        "id": "fVCmRtLoz0kL"
      }
    },
    {
      "cell_type": "code",
      "source": [
        "import random as r\n",
        "from collections import defaultdict\n",
        "\n",
        "def run_simon_run(steps, rho):\n",
        "  individuals = [[1,0]]\n",
        "  num_types = 1\n",
        "\n",
        "  for t in range(steps-1):\n",
        "    rand = r.uniform(0, 1)\n",
        "    if rand < rho:\n",
        "      # mutation\n",
        "      individuals.append([t, num_types])\n",
        "      num_types = num_types + 1\n",
        "    else:\n",
        "      # replication\n",
        "      individuals.append([t, r.choice(individuals)[1]])\n",
        "\n",
        "  groups = defaultdict(int)\n",
        "\n",
        "  for i, t in individuals:\n",
        "    groups[t] += 1\n",
        "\n",
        "  return pd.DataFrame.from_dict(groups, columns=['Size'], orient='index')"
      ],
      "metadata": {
        "id": "bZbb_WyD-S-o"
      },
      "execution_count": null,
      "outputs": []
    },
    {
      "cell_type": "code",
      "source": [
        "def rank_distribution(dataframe):\n",
        "  new_dataframe = dataframe.copy()\n",
        "  new_dataframe['Rank'] = st.rankdata(-dataframe['Size'])\n",
        "  return new_dataframe\n",
        "\n",
        "def rank_distributions(distributions):\n",
        "  return [rank_distribution(dist) for dist in distributions]"
      ],
      "metadata": {
        "id": "dMfNzG9S0BUV"
      },
      "execution_count": null,
      "outputs": []
    },
    {
      "cell_type": "code",
      "source": [
        "# log-log regression\n",
        "def regress_ll(x, y):\n",
        "  result = stats.linregress(np.log10(x), np.log10(y))\n",
        "  # print(f\"R squared: {result.rvalue**2}\")\n",
        "  return result\n",
        "\n",
        "def regress_zipf(dataframe):\n",
        "  return regress_ll(dataframe['Rank'], dataframe['Size'])"
      ],
      "metadata": {
        "id": "g3khEMZHjpVE"
      },
      "execution_count": null,
      "outputs": []
    },
    {
      "cell_type": "markdown",
      "source": [
        "Step 2. Show Zipfs Distribution for ρ = 0.10, 0.01, and 0.001 and perform regressions to test α = 1 − ρ."
      ],
      "metadata": {
        "id": "asES_Z7-2E8s"
      }
    },
    {
      "cell_type": "code",
      "source": [
        "TARGET_GROUP_COUNT = 1_000\n",
        "NUM_SIMULATIONS = 100\n",
        "\n",
        "def alpha_for_rho(rho):\n",
        "  n = int(TARGET_GROUP_COUNT/rho)\n",
        "  distributions = [run_simon_run(n, rho) for i in range(NUM_SIMULATIONS)]\n",
        "\n",
        "  print(f\"Rho: {rho}, number of individuals: {n}, number of simulations: {len(distributions)}\")\n",
        "  print(f\"Average number of groups: {np.mean(list(map(lambda d: len(d), distributions)))}\")\n",
        "\n",
        "  regressions = list(map(regress_zipf, rank_distributions(distributions)))\n",
        "  slopes = [r.slope for r in regressions]\n",
        "  print(f\"Average R squared: {np.mean([r.rvalue**2 for r in regressions])}\")\n",
        "  return -np.mean(slopes)\n",
        "\n",
        "rhos = [0.1, 0.01, 0.001]\n",
        "\n",
        "for rho in rhos:\n",
        "  expected_alpha = 1 - rho\n",
        "  alpha = alpha_for_rho(rho)\n",
        "  print(f\"Measured alpha: {alpha}, expected alpha: {expected_alpha}\")\n",
        "  print()"
      ],
      "metadata": {
        "id": "5X6PZiRopajK",
        "colab": {
          "base_uri": "https://localhost:8080/",
          "height": 478
        },
        "outputId": "f2a0731c-bc96-46e6-957a-da3e02548a83"
      },
      "execution_count": null,
      "outputs": [
        {
          "output_type": "stream",
          "name": "stdout",
          "text": [
            "Rho: 0.1, number of individuals: 10000, number of simulations: 100\n",
            "Average number of groups: 997.73\n",
            "Average R squared: 0.9942216073740283\n",
            "Measured alpha: 1.0362070378428847, expected alpha: 0.9\n",
            "\n"
          ]
        },
        {
          "output_type": "error",
          "ename": "KeyboardInterrupt",
          "evalue": "ignored",
          "traceback": [
            "\u001b[0;31m---------------------------------------------------------------------------\u001b[0m",
            "\u001b[0;31mKeyboardInterrupt\u001b[0m                         Traceback (most recent call last)",
            "\u001b[0;32m<ipython-input-9-d42cdf8b1234>\u001b[0m in \u001b[0;36m<module>\u001b[0;34m\u001b[0m\n\u001b[1;32m     18\u001b[0m \u001b[0;32mfor\u001b[0m \u001b[0mrho\u001b[0m \u001b[0;32min\u001b[0m \u001b[0mrhos\u001b[0m\u001b[0;34m:\u001b[0m\u001b[0;34m\u001b[0m\u001b[0;34m\u001b[0m\u001b[0m\n\u001b[1;32m     19\u001b[0m   \u001b[0mexpected_alpha\u001b[0m \u001b[0;34m=\u001b[0m \u001b[0;36m1\u001b[0m \u001b[0;34m-\u001b[0m \u001b[0mrho\u001b[0m\u001b[0;34m\u001b[0m\u001b[0;34m\u001b[0m\u001b[0m\n\u001b[0;32m---> 20\u001b[0;31m   \u001b[0malpha\u001b[0m \u001b[0;34m=\u001b[0m \u001b[0malpha_for_rho\u001b[0m\u001b[0;34m(\u001b[0m\u001b[0mrho\u001b[0m\u001b[0;34m)\u001b[0m\u001b[0;34m\u001b[0m\u001b[0;34m\u001b[0m\u001b[0m\n\u001b[0m\u001b[1;32m     21\u001b[0m   \u001b[0mprint\u001b[0m\u001b[0;34m(\u001b[0m\u001b[0;34mf\"Measured alpha: {alpha}, expected alpha: {expected_alpha}\"\u001b[0m\u001b[0;34m)\u001b[0m\u001b[0;34m\u001b[0m\u001b[0;34m\u001b[0m\u001b[0m\n\u001b[1;32m     22\u001b[0m   \u001b[0mprint\u001b[0m\u001b[0;34m(\u001b[0m\u001b[0;34m)\u001b[0m\u001b[0;34m\u001b[0m\u001b[0;34m\u001b[0m\u001b[0m\n",
            "\u001b[0;32m<ipython-input-9-d42cdf8b1234>\u001b[0m in \u001b[0;36malpha_for_rho\u001b[0;34m(rho)\u001b[0m\n\u001b[1;32m      4\u001b[0m \u001b[0;32mdef\u001b[0m \u001b[0malpha_for_rho\u001b[0m\u001b[0;34m(\u001b[0m\u001b[0mrho\u001b[0m\u001b[0;34m)\u001b[0m\u001b[0;34m:\u001b[0m\u001b[0;34m\u001b[0m\u001b[0;34m\u001b[0m\u001b[0m\n\u001b[1;32m      5\u001b[0m   \u001b[0mn\u001b[0m \u001b[0;34m=\u001b[0m \u001b[0mint\u001b[0m\u001b[0;34m(\u001b[0m\u001b[0mTARGET_GROUP_COUNT\u001b[0m\u001b[0;34m/\u001b[0m\u001b[0mrho\u001b[0m\u001b[0;34m)\u001b[0m\u001b[0;34m\u001b[0m\u001b[0;34m\u001b[0m\u001b[0m\n\u001b[0;32m----> 6\u001b[0;31m   \u001b[0mdistributions\u001b[0m \u001b[0;34m=\u001b[0m \u001b[0;34m[\u001b[0m\u001b[0mrun_simon_run\u001b[0m\u001b[0;34m(\u001b[0m\u001b[0mn\u001b[0m\u001b[0;34m,\u001b[0m \u001b[0mrho\u001b[0m\u001b[0;34m)\u001b[0m \u001b[0;32mfor\u001b[0m \u001b[0mi\u001b[0m \u001b[0;32min\u001b[0m \u001b[0mrange\u001b[0m\u001b[0;34m(\u001b[0m\u001b[0mNUM_SIMULATIONS\u001b[0m\u001b[0;34m)\u001b[0m\u001b[0;34m]\u001b[0m\u001b[0;34m\u001b[0m\u001b[0;34m\u001b[0m\u001b[0m\n\u001b[0m\u001b[1;32m      7\u001b[0m \u001b[0;34m\u001b[0m\u001b[0m\n\u001b[1;32m      8\u001b[0m   \u001b[0mprint\u001b[0m\u001b[0;34m(\u001b[0m\u001b[0;34mf\"Rho: {rho}, number of individuals: {n}, number of simulations: {len(distributions)}\"\u001b[0m\u001b[0;34m)\u001b[0m\u001b[0;34m\u001b[0m\u001b[0;34m\u001b[0m\u001b[0m\n",
            "\u001b[0;32m<ipython-input-9-d42cdf8b1234>\u001b[0m in \u001b[0;36m<listcomp>\u001b[0;34m(.0)\u001b[0m\n\u001b[1;32m      4\u001b[0m \u001b[0;32mdef\u001b[0m \u001b[0malpha_for_rho\u001b[0m\u001b[0;34m(\u001b[0m\u001b[0mrho\u001b[0m\u001b[0;34m)\u001b[0m\u001b[0;34m:\u001b[0m\u001b[0;34m\u001b[0m\u001b[0;34m\u001b[0m\u001b[0m\n\u001b[1;32m      5\u001b[0m   \u001b[0mn\u001b[0m \u001b[0;34m=\u001b[0m \u001b[0mint\u001b[0m\u001b[0;34m(\u001b[0m\u001b[0mTARGET_GROUP_COUNT\u001b[0m\u001b[0;34m/\u001b[0m\u001b[0mrho\u001b[0m\u001b[0;34m)\u001b[0m\u001b[0;34m\u001b[0m\u001b[0;34m\u001b[0m\u001b[0m\n\u001b[0;32m----> 6\u001b[0;31m   \u001b[0mdistributions\u001b[0m \u001b[0;34m=\u001b[0m \u001b[0;34m[\u001b[0m\u001b[0mrun_simon_run\u001b[0m\u001b[0;34m(\u001b[0m\u001b[0mn\u001b[0m\u001b[0;34m,\u001b[0m \u001b[0mrho\u001b[0m\u001b[0;34m)\u001b[0m \u001b[0;32mfor\u001b[0m \u001b[0mi\u001b[0m \u001b[0;32min\u001b[0m \u001b[0mrange\u001b[0m\u001b[0;34m(\u001b[0m\u001b[0mNUM_SIMULATIONS\u001b[0m\u001b[0;34m)\u001b[0m\u001b[0;34m]\u001b[0m\u001b[0;34m\u001b[0m\u001b[0;34m\u001b[0m\u001b[0m\n\u001b[0m\u001b[1;32m      7\u001b[0m \u001b[0;34m\u001b[0m\u001b[0m\n\u001b[1;32m      8\u001b[0m   \u001b[0mprint\u001b[0m\u001b[0;34m(\u001b[0m\u001b[0;34mf\"Rho: {rho}, number of individuals: {n}, number of simulations: {len(distributions)}\"\u001b[0m\u001b[0;34m)\u001b[0m\u001b[0;34m\u001b[0m\u001b[0;34m\u001b[0m\u001b[0m\n",
            "\u001b[0;32m<ipython-input-6-422d7f3409d6>\u001b[0m in \u001b[0;36mrun_simon_run\u001b[0;34m(steps, rho)\u001b[0m\n\u001b[1;32m     14\u001b[0m     \u001b[0;32melse\u001b[0m\u001b[0;34m:\u001b[0m\u001b[0;34m\u001b[0m\u001b[0;34m\u001b[0m\u001b[0m\n\u001b[1;32m     15\u001b[0m       \u001b[0;31m# replication\u001b[0m\u001b[0;34m\u001b[0m\u001b[0;34m\u001b[0m\u001b[0;34m\u001b[0m\u001b[0m\n\u001b[0;32m---> 16\u001b[0;31m       \u001b[0mindividuals\u001b[0m\u001b[0;34m.\u001b[0m\u001b[0mappend\u001b[0m\u001b[0;34m(\u001b[0m\u001b[0;34m[\u001b[0m\u001b[0mt\u001b[0m\u001b[0;34m,\u001b[0m \u001b[0mr\u001b[0m\u001b[0;34m.\u001b[0m\u001b[0mchoice\u001b[0m\u001b[0;34m(\u001b[0m\u001b[0mindividuals\u001b[0m\u001b[0;34m)\u001b[0m\u001b[0;34m[\u001b[0m\u001b[0;36m1\u001b[0m\u001b[0;34m]\u001b[0m\u001b[0;34m]\u001b[0m\u001b[0;34m)\u001b[0m\u001b[0;34m\u001b[0m\u001b[0;34m\u001b[0m\u001b[0m\n\u001b[0m\u001b[1;32m     17\u001b[0m \u001b[0;34m\u001b[0m\u001b[0m\n\u001b[1;32m     18\u001b[0m   \u001b[0mgroups\u001b[0m \u001b[0;34m=\u001b[0m \u001b[0mdefaultdict\u001b[0m\u001b[0;34m(\u001b[0m\u001b[0mint\u001b[0m\u001b[0;34m)\u001b[0m\u001b[0;34m\u001b[0m\u001b[0;34m\u001b[0m\u001b[0m\n",
            "\u001b[0;32m/usr/lib/python3.7/random.py\u001b[0m in \u001b[0;36mchoice\u001b[0;34m(self, seq)\u001b[0m\n\u001b[1;32m    257\u001b[0m         \u001b[0;34m\"\"\"Choose a random element from a non-empty sequence.\"\"\"\u001b[0m\u001b[0;34m\u001b[0m\u001b[0;34m\u001b[0m\u001b[0m\n\u001b[1;32m    258\u001b[0m         \u001b[0;32mtry\u001b[0m\u001b[0;34m:\u001b[0m\u001b[0;34m\u001b[0m\u001b[0;34m\u001b[0m\u001b[0m\n\u001b[0;32m--> 259\u001b[0;31m             \u001b[0mi\u001b[0m \u001b[0;34m=\u001b[0m \u001b[0mself\u001b[0m\u001b[0;34m.\u001b[0m\u001b[0m_randbelow\u001b[0m\u001b[0;34m(\u001b[0m\u001b[0mlen\u001b[0m\u001b[0;34m(\u001b[0m\u001b[0mseq\u001b[0m\u001b[0;34m)\u001b[0m\u001b[0;34m)\u001b[0m\u001b[0;34m\u001b[0m\u001b[0;34m\u001b[0m\u001b[0m\n\u001b[0m\u001b[1;32m    260\u001b[0m         \u001b[0;32mexcept\u001b[0m \u001b[0mValueError\u001b[0m\u001b[0;34m:\u001b[0m\u001b[0;34m\u001b[0m\u001b[0;34m\u001b[0m\u001b[0m\n\u001b[1;32m    261\u001b[0m             \u001b[0;32mraise\u001b[0m \u001b[0mIndexError\u001b[0m\u001b[0;34m(\u001b[0m\u001b[0;34m'Cannot choose from an empty sequence'\u001b[0m\u001b[0;34m)\u001b[0m \u001b[0;32mfrom\u001b[0m \u001b[0;32mNone\u001b[0m\u001b[0;34m\u001b[0m\u001b[0;34m\u001b[0m\u001b[0m\n",
            "\u001b[0;31mKeyboardInterrupt\u001b[0m: "
          ]
        }
      ]
    },
    {
      "cell_type": "code",
      "source": [
        "x1 = run_simon_run(10000, 0.1)\n",
        "y1 = rank_distribution(x1)\n",
        "\n",
        "x2 =run_simon_run(100000, 0.01)\n",
        "y2 = rank_distribution(x2)\n",
        "\n",
        "x3 = run_simon_run(1000000, 0.001)\n",
        "y3 = rank_distribution(x3)\n",
        "\n",
        "plt.plot(y1['Rank'], y1['Size'],'m-', marker=\"o\", markersize=5, linewidth=0, label=r'$\\rho = 0.1$, $t=10\\,000$')\n",
        "plt.plot(y2['Rank'], y2['Size'],'o--',marker=\"o\", markersize=5, linewidth=0, label=r'$\\rho = 0.01$, $t=100\\,000$')\n",
        "plt.plot(y3['Rank'], y3['Size'],'k-',marker=\"o\", markersize=5, linewidth=0, label=r'$\\rho = 0.001$, $t=1\\,000\\,000$')\n",
        "\n",
        "plt.legend()\n",
        "plt.xlabel('Rank')\n",
        "plt.ylabel('Group size')\n",
        "plt.title(\"Zipf Distributions\")\n",
        "plt.loglog(base=10)\n",
        "plt.savefig('/content/drive/MyDrive/pocs/06/02-zipf.png', dpi=600)\n",
        "plt.show()"
      ],
      "metadata": {
        "colab": {
          "base_uri": "https://localhost:8080/",
          "height": 299
        },
        "id": "9TyP3wuTNbUh",
        "outputId": "28daff6a-3351-4db0-bc39-6ec8bc362701"
      },
      "execution_count": 103,
      "outputs": [
        {
          "output_type": "display_data",
          "data": {
            "text/plain": [
              "<Figure size 432x288 with 1 Axes>"
            ],
            "image/png": "[encoded data removed]"
          },
          "metadata": {
            "needs_background": "light"
          }
        }
      ]
    },
    {
      "cell_type": "markdown",
      "source": [
        "# Q4"
      ],
      "metadata": {
        "id": "c2O90HpSGVFO"
      }
    },
    {
      "cell_type": "code",
      "source": [
        "t = 20\n",
        "xs = np.arange(1, t+1)\n",
        "ys = np.zeros(t)\n",
        "ys[0] = 1\n",
        "plt.bar(xs, ys)\n",
        "plt.annotate('$1$', (1, 0), fontsize=12, xytext=(1+2/100*t, 10/100))\n",
        "plt.xlabel(\"$k$\")\n",
        "plt.ylabel(\"$n_k$\")\n",
        "plt.title(\"Distribution of $n_k$ for $\\\\rho\\\\to1$\")\n",
        "plt.savefig('/content/drive/MyDrive/pocs/06/04-rho-1.png', dpi=600)\n",
        "plt.show()"
      ],
      "metadata": {
        "colab": {
          "base_uri": "https://localhost:8080/",
          "height": 299
        },
        "id": "PcfB3rw3GWsn",
        "outputId": "c61e7d09-f576-45e5-b9ed-98f3271648a1"
      },
      "execution_count": null,
      "outputs": [
        {
          "output_type": "display_data",
          "data": {
            "text/plain": [
              "<Figure size 432x288 with 1 Axes>"
            ],
            "image/png": "[encoded data removed]"
          },
          "metadata": {
            "needs_background": "light"
          }
        }
      ]
    },
    {
      "cell_type": "code",
      "source": [
        "t = 20\n",
        "xs = np.arange(1, t+1)\n",
        "ys = np.zeros(t)\n",
        "ys[t-1] = 1\n",
        "plt.bar(xs, ys)\n",
        "plt.annotate('$t$', (t, 0), fontsize=12, xytext=(t+2/100*t, 10/100))\n",
        "plt.xlabel(\"$k$\")\n",
        "plt.ylabel(\"$n_k$\")\n",
        "plt.title(\"Distribution of $n_k$ for $\\\\rho\\\\to0$\")\n",
        "plt.savefig('/content/drive/MyDrive/pocs/06/04-rho-0.png', dpi=600)\n",
        "plt.show()"
      ],
      "metadata": {
        "colab": {
          "base_uri": "https://localhost:8080/",
          "height": 299
        },
        "outputId": "eef272ca-5fec-453e-d0e4-2681cd3fea77",
        "id": "uED2-I1HKpxq"
      },
      "execution_count": null,
      "outputs": [
        {
          "output_type": "display_data",
          "data": {
            "text/plain": [
              "<Figure size 432x288 with 1 Axes>"
            ],
            "image/png": "[encoded data removed]"
          },
          "metadata": {
            "needs_background": "light"
          }
        }
      ]
    },
    {
      "cell_type": "code",
      "source": [
        "t = 100_000\n",
        "group_sizes = run_simon_run(t, 0.01)\n",
        "\n",
        "Nk = defaultdict(int)\n",
        "\n",
        "for size in group_sizes['Size']:\n",
        "  Nk[size] += 1\n",
        "\n",
        "df = pd.DataFrame(list(Nk.items()), columns=['k', 'Nk'])\n",
        "df['nk'] = df['k']*df['Nk'] / t\n",
        "\n",
        "df = df.sort_values(by=['k'])\n",
        "\n",
        "plt.scatter(df['k'], df['nk'])\n",
        "plt.loglog(10)\n",
        "# plt.annotate('$t$', (t, 0), fontsize=12, xytext=(t+2/100*t, 10/100))\n",
        "plt.xlabel(\"$k$\")\n",
        "plt.ylabel(\"$n_k$\")\n",
        "# plt.title(\"Distribution of $n_k$ for $\\\\rho\\\\to0$\")\n",
        "# plt.savefig('/content/drive/MyDrive/pocs/06/04-rho-0.png', dpi=600)\n",
        "plt.show()\n",
        "\n",
        "plt.scatter(df['k'], df['Nk'])\n",
        "plt.loglog(10)\n",
        "# plt.annotate('$t$', (t, 0), fontsize=12, xytext=(t+2/100*t, 10/100))\n",
        "plt.xlabel(\"$k$\")\n",
        "plt.ylabel(\"$N_k$\")\n",
        "plt.show()\n",
        "\n",
        "df"
      ],
      "metadata": {
        "colab": {
          "base_uri": "https://localhost:8080/",
          "height": 1000
        },
        "id": "yuSz3eDjSZY0",
        "outputId": "f6770a7c-5bf8-49a9-ec9a-9d2366f003e7"
      },
      "execution_count": null,
      "outputs": [
        {
          "output_type": "display_data",
          "data": {
            "text/plain": [
              "<Figure size 432x288 with 1 Axes>"
            ],
            "image/png": "[encoded data removed]"
          },
          "metadata": {
            "needs_background": "light"
          }
        },
        {
          "output_type": "display_data",
          "data": {
            "text/plain": [
              "<Figure size 432x288 with 1 Axes>"
            ],
            "image/png": "[encoded data removed]"
          },
          "metadata": {
            "needs_background": "light"
          }
        },
        {
          "output_type": "execute_result",
          "data": {
            "text/plain": [
              "        k   Nk       nk\n",
              "45      1  524  0.00524\n",
              "23      2  171  0.00342\n",
              "42      3   85  0.00255\n",
              "35      4   53  0.00212\n",
              "3       5   43  0.00215\n",
              "44      6   24  0.00144\n",
              "28      7   25  0.00175\n",
              "30      8   16  0.00128\n",
              "48      9   12  0.00108\n",
              "36     10    6  0.00060\n",
              "7      11    7  0.00077\n",
              "31     12    6  0.00072\n",
              "21     13    9  0.00117\n",
              "46     14    5  0.00070\n",
              "43     15    6  0.00090\n",
              "10     16    5  0.00080\n",
              "18     17    6  0.00102\n",
              "26     18    3  0.00054\n",
              "16     19    1  0.00019\n",
              "50     21    2  0.00042\n",
              "41     22    2  0.00044\n",
              "34     23    3  0.00069\n",
              "33     24    2  0.00048\n",
              "32     26    3  0.00078\n",
              "49     28    1  0.00028\n",
              "40     29    1  0.00029\n",
              "19     30    3  0.00090\n",
              "27     31    4  0.00124\n",
              "25     34    1  0.00034\n",
              "47     37    1  0.00037\n",
              "14     41    2  0.00082\n",
              "22     43    2  0.00086\n",
              "37     46    1  0.00046\n",
              "39     49    1  0.00049\n",
              "6      52    2  0.00104\n",
              "17     53    1  0.00053\n",
              "15     54    1  0.00054\n",
              "20     56    2  0.00112\n",
              "38     61    1  0.00061\n",
              "24     69    1  0.00069\n",
              "8      82    1  0.00082\n",
              "12     90    1  0.00090\n",
              "29     93    1  0.00093\n",
              "5     101    1  0.00101\n",
              "11    112    1  0.00112\n",
              "1     144    1  0.00144\n",
              "9     186    1  0.00186\n",
              "13    194    1  0.00194\n",
              "2     464    1  0.00464\n",
              "4     633    1  0.00633\n",
              "0   93718    1  0.93718"
            ],
            "text/html": [
              "\n",
              "  <div id=\"df-6f06a5b8-418f-4c44-bdc7-4b19ce315aaa\">\n",
              "    <div class=\"colab-df-container\">\n",
              "      <div>\n",
              "<style scoped>\n",
              "    .dataframe tbody tr th:only-of-type {\n",
              "        vertical-align: middle;\n",
              "    }\n",
              "\n",
              "    .dataframe tbody tr th {\n",
              "        vertical-align: top;\n",
              "    }\n",
              "\n",
              "    .dataframe thead th {\n",
              "        text-align: right;\n",
              "    }\n",
              "</style>\n",
              "<table border=\"1\" class=\"dataframe\">\n",
              "  <thead>\n",
              "    <tr style=\"text-align: right;\">\n",
              "      <th></th>\n",
              "      <th>k</th>\n",
              "      <th>Nk</th>\n",
              "      <th>nk</th>\n",
              "    </tr>\n",
              "  </thead>\n",
              "  <tbody>\n",
              "    <tr>\n",
              "      <th>45</th>\n",
              "      <td>1</td>\n",
              "      <td>524</td>\n",
              "      <td>0.00524</td>\n",
              "    </tr>\n",
              "    <tr>\n",
              "      <th>23</th>\n",
              "      <td>2</td>\n",
              "      <td>171</td>\n",
              "      <td>0.00342</td>\n",
              "    </tr>\n",
              "    <tr>\n",
              "      <th>42</th>\n",
              "      <td>3</td>\n",
              "      <td>85</td>\n",
              "      <td>0.00255</td>\n",
              "    </tr>\n",
              "    <tr>\n",
              "      <th>35</th>\n",
              "      <td>4</td>\n",
              "      <td>53</td>\n",
              "      <td>0.00212</td>\n",
              "    </tr>\n",
              "    <tr>\n",
              "      <th>3</th>\n",
              "      <td>5</td>\n",
              "      <td>43</td>\n",
              "      <td>0.00215</td>\n",
              "    </tr>\n",
              "    <tr>\n",
              "      <th>44</th>\n",
              "      <td>6</td>\n",
              "      <td>24</td>\n",
              "      <td>0.00144</td>\n",
              "    </tr>\n",
              "    <tr>\n",
              "      <th>28</th>\n",
              "      <td>7</td>\n",
              "      <td>25</td>\n",
              "      <td>0.00175</td>\n",
              "    </tr>\n",
              "    <tr>\n",
              "      <th>30</th>\n",
              "      <td>8</td>\n",
              "      <td>16</td>\n",
              "      <td>0.00128</td>\n",
              "    </tr>\n",
              "    <tr>\n",
              "      <th>48</th>\n",
              "      <td>9</td>\n",
              "      <td>12</td>\n",
              "      <td>0.00108</td>\n",
              "    </tr>\n",
              "    <tr>\n",
              "      <th>36</th>\n",
              "      <td>10</td>\n",
              "      <td>6</td>\n",
              "      <td>0.00060</td>\n",
              "    </tr>\n",
              "    <tr>\n",
              "      <th>7</th>\n",
              "      <td>11</td>\n",
              "      <td>7</td>\n",
              "      <td>0.00077</td>\n",
              "    </tr>\n",
              "    <tr>\n",
              "      <th>31</th>\n",
              "      <td>12</td>\n",
              "      <td>6</td>\n",
              "      <td>0.00072</td>\n",
              "    </tr>\n",
              "    <tr>\n",
              "      <th>21</th>\n",
              "      <td>13</td>\n",
              "      <td>9</td>\n",
              "      <td>0.00117</td>\n",
              "    </tr>\n",
              "    <tr>\n",
              "      <th>46</th>\n",
              "      <td>14</td>\n",
              "      <td>5</td>\n",
              "      <td>0.00070</td>\n",
              "    </tr>\n",
              "    <tr>\n",
              "      <th>43</th>\n",
              "      <td>15</td>\n",
              "      <td>6</td>\n",
              "      <td>0.00090</td>\n",
              "    </tr>\n",
              "    <tr>\n",
              "      <th>10</th>\n",
              "      <td>16</td>\n",
              "      <td>5</td>\n",
              "      <td>0.00080</td>\n",
              "    </tr>\n",
              "    <tr>\n",
              "      <th>18</th>\n",
              "      <td>17</td>\n",
              "      <td>6</td>\n",
              "      <td>0.00102</td>\n",
              "    </tr>\n",
              "    <tr>\n",
              "      <th>26</th>\n",
              "      <td>18</td>\n",
              "      <td>3</td>\n",
              "      <td>0.00054</td>\n",
              "    </tr>\n",
              "    <tr>\n",
              "      <th>16</th>\n",
              "      <td>19</td>\n",
              "      <td>1</td>\n",
              "      <td>0.00019</td>\n",
              "    </tr>\n",
              "    <tr>\n",
              "      <th>50</th>\n",
              "      <td>21</td>\n",
              "      <td>2</td>\n",
              "      <td>0.00042</td>\n",
              "    </tr>\n",
              "    <tr>\n",
              "      <th>41</th>\n",
              "      <td>22</td>\n",
              "      <td>2</td>\n",
              "      <td>0.00044</td>\n",
              "    </tr>\n",
              "    <tr>\n",
              "      <th>34</th>\n",
              "      <td>23</td>\n",
              "      <td>3</td>\n",
              "      <td>0.00069</td>\n",
              "    </tr>\n",
              "    <tr>\n",
              "      <th>33</th>\n",
              "      <td>24</td>\n",
              "      <td>2</td>\n",
              "      <td>0.00048</td>\n",
              "    </tr>\n",
              "    <tr>\n",
              "      <th>32</th>\n",
              "      <td>26</td>\n",
              "      <td>3</td>\n",
              "      <td>0.00078</td>\n",
              "    </tr>\n",
              "    <tr>\n",
              "      <th>49</th>\n",
              "      <td>28</td>\n",
              "      <td>1</td>\n",
              "      <td>0.00028</td>\n",
              "    </tr>\n",
              "    <tr>\n",
              "      <th>40</th>\n",
              "      <td>29</td>\n",
              "      <td>1</td>\n",
              "      <td>0.00029</td>\n",
              "    </tr>\n",
              "    <tr>\n",
              "      <th>19</th>\n",
              "      <td>30</td>\n",
              "      <td>3</td>\n",
              "      <td>0.00090</td>\n",
              "    </tr>\n",
              "    <tr>\n",
              "      <th>27</th>\n",
              "      <td>31</td>\n",
              "      <td>4</td>\n",
              "      <td>0.00124</td>\n",
              "    </tr>\n",
              "    <tr>\n",
              "      <th>25</th>\n",
              "      <td>34</td>\n",
              "      <td>1</td>\n",
              "      <td>0.00034</td>\n",
              "    </tr>\n",
              "    <tr>\n",
              "      <th>47</th>\n",
              "      <td>37</td>\n",
              "      <td>1</td>\n",
              "      <td>0.00037</td>\n",
              "    </tr>\n",
              "    <tr>\n",
              "      <th>14</th>\n",
              "      <td>41</td>\n",
              "      <td>2</td>\n",
              "      <td>0.00082</td>\n",
              "    </tr>\n",
              "    <tr>\n",
              "      <th>22</th>\n",
              "      <td>43</td>\n",
              "      <td>2</td>\n",
              "      <td>0.00086</td>\n",
              "    </tr>\n",
              "    <tr>\n",
              "      <th>37</th>\n",
              "      <td>46</td>\n",
              "      <td>1</td>\n",
              "      <td>0.00046</td>\n",
              "    </tr>\n",
              "    <tr>\n",
              "      <th>39</th>\n",
              "      <td>49</td>\n",
              "      <td>1</td>\n",
              "      <td>0.00049</td>\n",
              "    </tr>\n",
              "    <tr>\n",
              "      <th>6</th>\n",
              "      <td>52</td>\n",
              "      <td>2</td>\n",
              "      <td>0.00104</td>\n",
              "    </tr>\n",
              "    <tr>\n",
              "      <th>17</th>\n",
              "      <td>53</td>\n",
              "      <td>1</td>\n",
              "      <td>0.00053</td>\n",
              "    </tr>\n",
              "    <tr>\n",
              "      <th>15</th>\n",
              "      <td>54</td>\n",
              "      <td>1</td>\n",
              "      <td>0.00054</td>\n",
              "    </tr>\n",
              "    <tr>\n",
              "      <th>20</th>\n",
              "      <td>56</td>\n",
              "      <td>2</td>\n",
              "      <td>0.00112</td>\n",
              "    </tr>\n",
              "    <tr>\n",
              "      <th>38</th>\n",
              "      <td>61</td>\n",
              "      <td>1</td>\n",
              "      <td>0.00061</td>\n",
              "    </tr>\n",
              "    <tr>\n",
              "      <th>24</th>\n",
              "      <td>69</td>\n",
              "      <td>1</td>\n",
              "      <td>0.00069</td>\n",
              "    </tr>\n",
              "    <tr>\n",
              "      <th>8</th>\n",
              "      <td>82</td>\n",
              "      <td>1</td>\n",
              "      <td>0.00082</td>\n",
              "    </tr>\n",
              "    <tr>\n",
              "      <th>12</th>\n",
              "      <td>90</td>\n",
              "      <td>1</td>\n",
              "      <td>0.00090</td>\n",
              "    </tr>\n",
              "    <tr>\n",
              "      <th>29</th>\n",
              "      <td>93</td>\n",
              "      <td>1</td>\n",
              "      <td>0.00093</td>\n",
              "    </tr>\n",
              "    <tr>\n",
              "      <th>5</th>\n",
              "      <td>101</td>\n",
              "      <td>1</td>\n",
              "      <td>0.00101</td>\n",
              "    </tr>\n",
              "    <tr>\n",
              "      <th>11</th>\n",
              "      <td>112</td>\n",
              "      <td>1</td>\n",
              "      <td>0.00112</td>\n",
              "    </tr>\n",
              "    <tr>\n",
              "      <th>1</th>\n",
              "      <td>144</td>\n",
              "      <td>1</td>\n",
              "      <td>0.00144</td>\n",
              "    </tr>\n",
              "    <tr>\n",
              "      <th>9</th>\n",
              "      <td>186</td>\n",
              "      <td>1</td>\n",
              "      <td>0.00186</td>\n",
              "    </tr>\n",
              "    <tr>\n",
              "      <th>13</th>\n",
              "      <td>194</td>\n",
              "      <td>1</td>\n",
              "      <td>0.00194</td>\n",
              "    </tr>\n",
              "    <tr>\n",
              "      <th>2</th>\n",
              "      <td>464</td>\n",
              "      <td>1</td>\n",
              "      <td>0.00464</td>\n",
              "    </tr>\n",
              "    <tr>\n",
              "      <th>4</th>\n",
              "      <td>633</td>\n",
              "      <td>1</td>\n",
              "      <td>0.00633</td>\n",
              "    </tr>\n",
              "    <tr>\n",
              "      <th>0</th>\n",
              "      <td>93718</td>\n",
              "      <td>1</td>\n",
              "      <td>0.93718</td>\n",
              "    </tr>\n",
              "  </tbody>\n",
              "</table>\n",
              "</div>\n",
              "      <button class=\"colab-df-convert\" onclick=\"convertToInteractive('df-6f06a5b8-418f-4c44-bdc7-4b19ce315aaa')\"\n",
              "              title=\"Convert this dataframe to an interactive table.\"\n",
              "              style=\"display:none;\">\n",
              "        \n",
              "  <svg xmlns=\"http://www.w3.org/2000/svg\" height=\"24px\"viewBox=\"0 0 24 24\"\n",
              "       width=\"24px\">\n",
              "    <path d=\"M0 0h24v24H0V0z\" fill=\"none\"/>\n",
              "    <path d=\"M18.56 5.44l.94 2.06.94-2.06 2.06-.94-2.06-.94-.94-2.06-.94 2.06-2.06.94zm-11 1L8.5 8.5l.94-2.06 2.06-.94-2.06-.94L8.5 2.5l-.94 2.06-2.06.94zm10 10l.94 2.06.94-2.06 2.06-.94-2.06-.94-.94-2.06-.94 2.06-2.06.94z\"/><path d=\"M17.41 7.96l-1.37-1.37c-.4-.4-.92-.59-1.43-.59-.52 0-1.04.2-1.43.59L10.3 9.45l-7.72 7.72c-.78.78-.78 2.05 0 2.83L4 21.41c.39.39.9.59 1.41.59.51 0 1.02-.2 1.41-.59l7.78-7.78 2.81-2.81c.8-.78.8-2.07 0-2.86zM5.41 20L4 18.59l7.72-7.72 1.47 1.35L5.41 20z\"/>\n",
              "  </svg>\n",
              "      </button>\n",
              "      \n",
              "  <style>\n",
              "    .colab-df-container {\n",
              "      display:flex;\n",
              "      flex-wrap:wrap;\n",
              "      gap: 12px;\n",
              "    }\n",
              "\n",
              "    .colab-df-convert {\n",
              "      background-color: #E8F0FE;\n",
              "      border: none;\n",
              "      border-radius: 50%;\n",
              "      cursor: pointer;\n",
              "      display: none;\n",
              "      fill: #1967D2;\n",
              "      height: 32px;\n",
              "      padding: 0 0 0 0;\n",
              "      width: 32px;\n",
              "    }\n",
              "\n",
              "    .colab-df-convert:hover {\n",
              "      background-color: #E2EBFA;\n",
              "      box-shadow: 0px 1px 2px rgba(60, 64, 67, 0.3), 0px 1px 3px 1px rgba(60, 64, 67, 0.15);\n",
              "      fill: #174EA6;\n",
              "    }\n",
              "\n",
              "    [theme=dark] .colab-df-convert {\n",
              "      background-color: #3B4455;\n",
              "      fill: #D2E3FC;\n",
              "    }\n",
              "\n",
              "    [theme=dark] .colab-df-convert:hover {\n",
              "      background-color: #434B5C;\n",
              "      box-shadow: 0px 1px 3px 1px rgba(0, 0, 0, 0.15);\n",
              "      filter: drop-shadow(0px 1px 2px rgba(0, 0, 0, 0.3));\n",
              "      fill: #FFFFFF;\n",
              "    }\n",
              "  </style>\n",
              "\n",
              "      <script>\n",
              "        const buttonEl =\n",
              "          document.querySelector('#df-6f06a5b8-418f-4c44-bdc7-4b19ce315aaa button.colab-df-convert');\n",
              "        buttonEl.style.display =\n",
              "          google.colab.kernel.accessAllowed ? 'block' : 'none';\n",
              "\n",
              "        async function convertToInteractive(key) {\n",
              "          const element = document.querySelector('#df-6f06a5b8-418f-4c44-bdc7-4b19ce315aaa');\n",
              "          const dataTable =\n",
              "            await google.colab.kernel.invokeFunction('convertToInteractive',\n",
              "                                                     [key], {});\n",
              "          if (!dataTable) return;\n",
              "\n",
              "          const docLinkHtml = 'Like what you see? Visit the ' +\n",
              "            '<a target=\"_blank\" href=https://colab.research.google.com/notebooks/data_table.ipynb>data table notebook</a>'\n",
              "            + ' to learn more about interactive tables.';\n",
              "          element.innerHTML = '';\n",
              "          dataTable['output_type'] = 'display_data';\n",
              "          await google.colab.output.renderOutput(dataTable, element);\n",
              "          const docLink = document.createElement('div');\n",
              "          docLink.innerHTML = docLinkHtml;\n",
              "          element.appendChild(docLink);\n",
              "        }\n",
              "      </script>\n",
              "    </div>\n",
              "  </div>\n",
              "  "
            ]
          },
          "metadata": {},
          "execution_count": 99
        }
      ]
    },
    {
      "cell_type": "markdown",
      "source": [
        "# Q5 (6 + 3 + 3 points)\n",
        "In Simon’s original model, the expected total number of distinct groups at time t\n",
        "is ρt. Recall that each group is made up of elements of a particular flavor.\n",
        "In class, we derived the fraction of groups containing only 1 element, finding\n",
        "n\n",
        "(g)\n",
        "1 =\n",
        "N1(t)\n",
        "ρt\n",
        "=\n",
        "1\n",
        "2 − ρ"
      ],
      "metadata": {
        "id": "6Dg1VTsyRtOO"
      }
    },
    {
      "cell_type": "markdown",
      "source": [
        "Colon-separated text file (first column = word, second column = word\n",
        "frequency f):\n",
        "https://pdodds.w3.uvm.edu/teaching/courses/2022-\n",
        "2023pocsverse/docs/ulysses.txt Note that some matching words with differing capitalization are recorded as\n",
        "separate words."
      ],
      "metadata": {
        "id": "_NM6xcRdSYBU"
      }
    },
    {
      "cell_type": "code",
      "source": [
        "ulysses"
      ],
      "metadata": {
        "id": "ZcLLPPzInjA7"
      },
      "execution_count": null,
      "outputs": []
    },
    {
      "cell_type": "markdown",
      "source": [
        "(b) Using data for James Joyce’s Ulysses (see below), first show that Simon’s\n",
        "estimate for the innovation rate ρest ≃ 0.115 is reasonably accurate for the\n",
        "version of the text’s word counts given below.\n",
        "Hint: You should find a slightly higher number than Simon did.  Hint: Do not compute ρest from an estimate of γ."
      ],
      "metadata": {
        "id": "uAqZytWCSB20"
      }
    },
    {
      "cell_type": "code",
      "source": [
        "innov_rate_ulysses = len(ulysses['word_frequency'])/(ulysses['word_frequency'].sum())\n",
        "innov_rate_ulysses"
      ],
      "metadata": {
        "id": "lPj14ZbxRuSu"
      },
      "execution_count": null,
      "outputs": []
    },
    {
      "cell_type": "markdown",
      "source": [
        "c. Now compare the theoretical estimates for n\n",
        "(g)\n",
        "1\n",
        ", n\n",
        "(g)\n",
        "2\n",
        ", and n\n",
        "(g)\n",
        "3\n",
        ", with empirical\n",
        "values you obtain for Ulysses."
      ],
      "metadata": {
        "id": "O5Yme8eASKTh"
      }
    },
    {
      "cell_type": "code",
      "source": [
        "word_counts_bow_ulysses_1 =  ulysses[ulysses['word_frequency'] == 1] \n",
        "word_counts_bow_ulysses_2 = ulysses[ulysses['word_frequency'] == 2] \n",
        "word_counts_bow_ulysses_3 = ulysses[ulysses['word_frequency'] == 3]"
      ],
      "metadata": {
        "id": "3rGugYDJSREn"
      },
      "execution_count": null,
      "outputs": []
    },
    {
      "cell_type": "code",
      "source": [
        "frac_words_once_ulysses = len(word_counts_bow_ulysses_1.index)/len(ulysses.index)\n",
        "frac_words_once_ulysses"
      ],
      "metadata": {
        "id": "cj_DmCRrqGDg"
      },
      "execution_count": null,
      "outputs": []
    },
    {
      "cell_type": "code",
      "source": [
        "frac_words_twice_ulysses = len(word_counts_bow_ulysses_2.index)/len(ulysses.index)\n",
        "frac_words_twice_ulysses"
      ],
      "metadata": {
        "id": "GQ-xnRTWqqsL"
      },
      "execution_count": null,
      "outputs": []
    },
    {
      "cell_type": "code",
      "source": [
        "frac_words_thrice_ulysses = len(word_counts_bow_ulysses_3.index)/len(ulysses.index)\n",
        "frac_words_thrice_ulysses"
      ],
      "metadata": {
        "id": "nFDao0TKquQT"
      },
      "execution_count": null,
      "outputs": []
    },
    {
      "cell_type": "code",
      "source": [
        "#put our value of rho into the theoretical estimates "
      ],
      "metadata": {
        "id": "MRRzPqDS7QEi"
      },
      "execution_count": null,
      "outputs": []
    },
    {
      "cell_type": "markdown",
      "source": [
        "# Q6 (3 + 3)\n",
        "Repeat the preceding data analysis for Ulysses for Jane Austen’s “Pride and\n",
        "Prejudice” and Alexandre Dumas’ “Le comte de Monte-Cristo” (in the original\n",
        "French), working this time from the original texts.\n",
        "For each text, measure the fraction of words that appear only once, twice, and\n",
        "three times, and compare them with the theoretical values offered by Simon’s\n",
        "model."
      ],
      "metadata": {
        "id": "6nVxn30nRul_"
      }
    },
    {
      "cell_type": "markdown",
      "source": [
        "Download text (UTF-8) versions from https://www.gutenberg.org :\n",
        "• Pride and Prejudice: https://www.gutenberg.org/ebooks/42671 .\n",
        "• Le comte de Monte-Cristo: https://www.gutenberg.org/ebooks/17989 "
      ],
      "metadata": {
        "id": "QXa-sH8-Sg6Z"
      }
    },
    {
      "cell_type": "markdown",
      "source": [
        "You will need to parse and count words using your favorite/most-hated language\n",
        "(Python, R, Perl-ha-ha, etc.).\n",
        "Gutenberg adds some (non-uniform) boilerplate to the beginning and ends of texts,\n",
        "and you should remove that first. Easiest to do so by inspection for just two texts.\n",
        "For a curated version of Gutenberg, see this paper by Gerlach and Font-Clos:\n",
        "https://arxiv.org/abs/1812.08092 "
      ],
      "metadata": {
        "id": "umTQDJZHSsUX"
      }
    },
    {
      "cell_type": "code",
      "source": [
        "import sklearn as sk \n",
        "from sklearn.feature_extraction.text import CountVectorizer, TfidfVectorizer\n",
        "from collections import Counter\n",
        "from sklearn.feature_extraction.text import TfidfVectorizer\n",
        "import nltk\n",
        "from nltk.tokenize import sent_tokenize, word_tokenize \n",
        "from nltk.tokenize import RegexpTokenizer\n",
        "from nltk.probability import FreqDist\n",
        "from nltk.probability import DictionaryProbDist"
      ],
      "metadata": {
        "id": "I17Tsm_wd6qb"
      },
      "execution_count": null,
      "outputs": []
    },
    {
      "cell_type": "code",
      "source": [
        "pride_txt"
      ],
      "metadata": {
        "id": "qsbkUqVnhE5-"
      },
      "execution_count": null,
      "outputs": []
    },
    {
      "cell_type": "code",
      "source": [
        "monte_txt"
      ],
      "metadata": {
        "id": "wmbGDzDrhFAv"
      },
      "execution_count": null,
      "outputs": []
    },
    {
      "cell_type": "markdown",
      "source": [
        "##monte cristo"
      ],
      "metadata": {
        "id": "6M5OXP3_sO5L"
      }
    },
    {
      "cell_type": "code",
      "source": [
        "#lowercase everything\n",
        "monte_txt['LE COMTE DE MONTE-CRISTO'].astype(str).str.lower()"
      ],
      "metadata": {
        "id": "pXC3gzsPdVrk"
      },
      "execution_count": null,
      "outputs": []
    },
    {
      "cell_type": "code",
      "source": [
        "#create a bag of words monte\n",
        "list_of_texts_monte = monte_txt['LE COMTE DE MONTE-CRISTO'].tolist()\n"
      ],
      "metadata": {
        "id": "mU-OnHTuouGl"
      },
      "execution_count": null,
      "outputs": []
    },
    {
      "cell_type": "code",
      "source": [
        "#Setup scikit vectorizer\n",
        "\n",
        "vectorizer_monte = CountVectorizer(min_df=1)\n",
        "term_doc_matrix_monte = vectorizer_monte.fit_transform(list_of_texts_monte)\n",
        "vectorizer_monte.get_feature_names_out()"
      ],
      "metadata": {
        "id": "SKhhsyBPphWk"
      },
      "execution_count": null,
      "outputs": []
    },
    {
      "cell_type": "code",
      "source": [
        "nltk.download('punkt')"
      ],
      "metadata": {
        "id": "h6dDtseOqyLA"
      },
      "execution_count": null,
      "outputs": []
    },
    {
      "cell_type": "code",
      "source": [
        "# Put BoW vectors into a new df\n",
        "monte_texts_bow = pd.DataFrame(term_doc_matrix_monte.toarray(), columns=vectorizer_monte.get_feature_names_out())\n",
        "\n",
        "#getting the counts of words in our bag of words\n",
        "word_counts_bow_monte = monte_texts_bow.sum(axis=0).sort_values(ascending=True)\n",
        "\n",
        "#Counts Calculates the counts that each word appears in a document out of all the words in the document.\n",
        "all_words_monte = ' '.join([word for word in list_of_texts_monte])\n",
        "words_monte = nltk.word_tokenize(all_words_monte)\n",
        "fd_monte = FreqDist(words_monte)\n",
        "fd_monte.most_common()\n",
        "fd_monte.tabulate()\n",
        "\n",
        "#confirming how many unique words we have\n",
        "list_set_monte = set(words_monte)\n",
        "unique_list_monte = (list(list_set_monte))\n",
        "uniqueWordCount_monte = len(set(unique_list_monte))\n",
        "uniqueWordCount_monte\n"
      ],
      "metadata": {
        "id": "jK97cnbNao46"
      },
      "execution_count": null,
      "outputs": []
    },
    {
      "cell_type": "code",
      "source": [
        "word_counts_bow_monte.plot()"
      ],
      "metadata": {
        "id": "QkpjGYeUuLhc"
      },
      "execution_count": null,
      "outputs": []
    },
    {
      "cell_type": "code",
      "source": [
        "#For each text, measure the fraction of words that appear only once, twice, and three times"
      ],
      "metadata": {
        "id": "zhng6F34sCaP"
      },
      "execution_count": null,
      "outputs": []
    },
    {
      "cell_type": "code",
      "source": [
        "word_counts_bow_monte = word_counts_bow_monte.to_frame(name=None)"
      ],
      "metadata": {
        "id": "pbHN3AlKsIMR"
      },
      "execution_count": null,
      "outputs": []
    },
    {
      "cell_type": "code",
      "source": [
        "word_counts_bow_monte_1 = word_counts_bow_monte[word_counts_bow_monte[0] == 1] \n",
        "word_counts_bow_monte_2 = word_counts_bow_monte[word_counts_bow_monte[0] == 2] \n",
        "word_counts_bow_monte_3 = word_counts_bow_monte[word_counts_bow_monte[0] == 3] "
      ],
      "metadata": {
        "id": "ysOkGLyfycyq"
      },
      "execution_count": null,
      "outputs": []
    },
    {
      "cell_type": "code",
      "source": [
        "innov_rate_monte = len(word_counts_bow_monte)/(word_counts_bow_monte.sum())\n",
        "innov_rate_monte"
      ],
      "metadata": {
        "id": "CG2COOdxrKiB"
      },
      "execution_count": null,
      "outputs": []
    },
    {
      "cell_type": "code",
      "source": [
        "#put our value of rho into the theoretical estimates "
      ],
      "metadata": {
        "id": "0AMaL-Z97m-T"
      },
      "execution_count": null,
      "outputs": []
    },
    {
      "cell_type": "code",
      "source": [
        "frac_words_once_monte = len(word_counts_bow_monte_1.index)/len(word_counts_bow_monte.index)\n",
        "frac_words_once_monte"
      ],
      "metadata": {
        "id": "9iwFdTkZye9B"
      },
      "execution_count": null,
      "outputs": []
    },
    {
      "cell_type": "code",
      "source": [
        "frac_words_twice_monte = len(word_counts_bow_monte_2.index)/len(word_counts_bow_monte.index)\n",
        "frac_words_twice_monte"
      ],
      "metadata": {
        "id": "6uKXFIxDyhBf"
      },
      "execution_count": null,
      "outputs": []
    },
    {
      "cell_type": "code",
      "source": [
        "frac_words_trice_monte = len(word_counts_bow_monte_3.index)/len(word_counts_bow_monte.index)\n",
        "frac_words_trice_monte"
      ],
      "metadata": {
        "id": "R-VKiIeOyitC"
      },
      "execution_count": null,
      "outputs": []
    },
    {
      "cell_type": "markdown",
      "source": [
        "##PRIDE & PREJUDICE"
      ],
      "metadata": {
        "id": "Vz_GJUcxsJTG"
      }
    },
    {
      "cell_type": "code",
      "source": [
        "#lower case everything \n",
        "pride_txt['PRIDE & PREJUDICE.'].astype(str).str.lower()"
      ],
      "metadata": {
        "id": "ypKWmju2sVOq"
      },
      "execution_count": null,
      "outputs": []
    },
    {
      "cell_type": "code",
      "source": [
        "#create a bag of words pride\n",
        "list_of_texts_pride = pride_txt['PRIDE & PREJUDICE.'].tolist()"
      ],
      "metadata": {
        "id": "t_u-X8MZn6WV"
      },
      "execution_count": null,
      "outputs": []
    },
    {
      "cell_type": "code",
      "source": [
        "#Setup scikit vectorizer\n",
        "\n",
        "vectorizer_pride = CountVectorizer(min_df=1)\n",
        "term_doc_matrix_pride = vectorizer_pride.fit_transform(list_of_texts_pride)\n",
        "vectorizer_pride.get_feature_names_out()"
      ],
      "metadata": {
        "id": "3Kh7qhRssbzw"
      },
      "execution_count": null,
      "outputs": []
    },
    {
      "cell_type": "code",
      "source": [
        "# Put BoW vectors into a new df\n",
        "pride_texts_bow = pd.DataFrame(term_doc_matrix_pride.toarray(), columns=vectorizer_pride.get_feature_names_out())\n",
        "\n",
        "#getting the counts of words in our bag of words\n",
        "word_counts_bow_pride = pride_texts_bow.sum(axis=0).sort_values(ascending=True)\n",
        "\n",
        "#Counts Calculates the counts that each word appears in a document out of all the words in the document.\n",
        "all_words_pride = ' '.join([word for word in pride_texts_bow])\n",
        "words_pride = nltk.word_tokenize(all_words_pride)\n",
        "fd_pride = FreqDist(words_pride)\n",
        "fd_pride.most_common()\n",
        "fd_pride.tabulate()\n",
        "\n",
        "#confirming how many unique words we have\n",
        "list_set_pride = set(words_pride)\n",
        "unique_list_pride = (list(list_set_pride))\n",
        "uniqueWordCount_pride = len(set(unique_list_pride))\n",
        "uniqueWordCount_pride"
      ],
      "metadata": {
        "id": "qyTqXQA9sfkY"
      },
      "execution_count": null,
      "outputs": []
    },
    {
      "cell_type": "code",
      "source": [
        "word_counts_bow_pride.plot()"
      ],
      "metadata": {
        "id": "iqToua-TtlLd"
      },
      "execution_count": null,
      "outputs": []
    },
    {
      "cell_type": "code",
      "source": [
        "#For each text, measure the fraction of words that appear only once, twice, and three times"
      ],
      "metadata": {
        "id": "dklgC-Mhdk4m"
      },
      "execution_count": null,
      "outputs": []
    },
    {
      "cell_type": "code",
      "source": [
        "word_counts_bow_pride = word_counts_bow_pride.to_frame(name=None)"
      ],
      "metadata": {
        "id": "6s8Mb2ejvcQO"
      },
      "execution_count": null,
      "outputs": []
    },
    {
      "cell_type": "code",
      "source": [
        "word_counts_bow_pride_1 = word_counts_bow_pride[word_counts_bow_pride[0] == 1] \n",
        "word_counts_bow_pride_2 = word_counts_bow_pride[word_counts_bow_pride[0] == 2] \n",
        "word_counts_bow_pride_3 = word_counts_bow_pride[word_counts_bow_pride[0] == 3] "
      ],
      "metadata": {
        "id": "3KvMaostvJaW"
      },
      "execution_count": null,
      "outputs": []
    },
    {
      "cell_type": "code",
      "source": [
        "innov_rate_pride = len(word_counts_bow_pride.index)/(word_counts_bow_pride.sum())\n",
        "innov_rate_pride"
      ],
      "metadata": {
        "id": "rGpIUQDesQqK"
      },
      "execution_count": null,
      "outputs": []
    },
    {
      "cell_type": "code",
      "source": [
        "#put our value of rho into the theoretical estimates "
      ],
      "metadata": {
        "id": "Y1rLfycs7tx-"
      },
      "execution_count": null,
      "outputs": []
    },
    {
      "cell_type": "code",
      "source": [
        "frac_words_once_pride = len(word_counts_bow_pride_1.index)/len(word_counts_bow_pride.index)\n",
        "frac_words_once_pride"
      ],
      "metadata": {
        "id": "2huogCZMxfI2"
      },
      "execution_count": null,
      "outputs": []
    },
    {
      "cell_type": "code",
      "source": [
        "frac_words_twice_pride = len(word_counts_bow_pride_2.index)/len(word_counts_bow_pride.index)\n",
        "frac_words_twice_pride"
      ],
      "metadata": {
        "id": "yTLv0Je5yQO4"
      },
      "execution_count": null,
      "outputs": []
    },
    {
      "cell_type": "code",
      "source": [
        "frac_words_trice_pride = len(word_counts_bow_pride_3.index)/len(word_counts_bow_pride.index)\n",
        "frac_words_trice_pride"
      ],
      "metadata": {
        "id": "0lIRC5D1yUO2"
      },
      "execution_count": null,
      "outputs": []
    }
  ]
}