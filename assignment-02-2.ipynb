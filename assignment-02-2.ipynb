{
 "cells": [
  {
   "cell_type": "code",
   "execution_count": 1,
   "id": "f20dafa7",
   "metadata": {},
   "outputs": [],
   "source": [
    "import pandas as pd\n",
    "import numpy as np\n",
    "import matplotlib.pyplot as plt"
   ]
  },
  {
   "cell_type": "code",
   "execution_count": 2,
   "id": "edbbef3f",
   "metadata": {},
   "outputs": [
    {
     "data": {
      "text/html": [
       "<div>\n",
       "<style scoped>\n",
       "    .dataframe tbody tr th:only-of-type {\n",
       "        vertical-align: middle;\n",
       "    }\n",
       "\n",
       "    .dataframe tbody tr th {\n",
       "        vertical-align: top;\n",
       "    }\n",
       "\n",
       "    .dataframe thead th {\n",
       "        text-align: right;\n",
       "    }\n",
       "</style>\n",
       "<table border=\"1\" class=\"dataframe\">\n",
       "  <thead>\n",
       "    <tr style=\"text-align: right;\">\n",
       "      <th></th>\n",
       "      <th>Oarsmen</th>\n",
       "      <th>Speed</th>\n",
       "    </tr>\n",
       "  </thead>\n",
       "  <tbody>\n",
       "    <tr>\n",
       "      <th>0</th>\n",
       "      <td>1</td>\n",
       "      <td>18.426575</td>\n",
       "    </tr>\n",
       "    <tr>\n",
       "      <th>1</th>\n",
       "      <td>2</td>\n",
       "      <td>19.538670</td>\n",
       "    </tr>\n",
       "    <tr>\n",
       "      <th>2</th>\n",
       "      <td>2</td>\n",
       "      <td>18.308498</td>\n",
       "    </tr>\n",
       "    <tr>\n",
       "      <th>3</th>\n",
       "      <td>2</td>\n",
       "      <td>20.015568</td>\n",
       "    </tr>\n",
       "    <tr>\n",
       "      <th>4</th>\n",
       "      <td>4</td>\n",
       "      <td>21.310602</td>\n",
       "    </tr>\n",
       "    <tr>\n",
       "      <th>5</th>\n",
       "      <td>4</td>\n",
       "      <td>20.057945</td>\n",
       "    </tr>\n",
       "    <tr>\n",
       "      <th>6</th>\n",
       "      <td>4</td>\n",
       "      <td>21.684788</td>\n",
       "    </tr>\n",
       "    <tr>\n",
       "      <th>7</th>\n",
       "      <td>8</td>\n",
       "      <td>22.593197</td>\n",
       "    </tr>\n",
       "  </tbody>\n",
       "</table>\n",
       "</div>"
      ],
      "text/plain": [
       "   Oarsmen      Speed\n",
       "0        1  18.426575\n",
       "1        2  19.538670\n",
       "2        2  18.308498\n",
       "3        2  20.015568\n",
       "4        4  21.310602\n",
       "5        4  20.057945\n",
       "6        4  21.684788\n",
       "7        8  22.593197"
      ]
     },
     "execution_count": 2,
     "metadata": {},
     "output_type": "execute_result"
    }
   ],
   "source": [
    "data = {'Oarsmen': [1, 2, 2, 2, 4, 4, 4, 8], 'Speed': [2/(6/60 + 30.74/3600), 2/(6/60 + 8.5/3600), 2/(6/60 + 33.26/3600), 2/(5/60 + 59.72/3600), 2/(5/60 + 37.86/3600), 2/(5/60 + 58.96/3600), 2/(5/60 + 32.03/3600), 2/(5/60 + 18.68/3600)]}\n",
    "\n",
    "frame = pd.DataFrame(data)\n",
    "frame"
   ]
  },
  {
   "cell_type": "code",
   "execution_count": 10,
   "id": "4e866088",
   "metadata": {},
   "outputs": [
    {
     "data": {
      "text/plain": [
       "<AxesSubplot:xlabel='Oarsmen'>"
      ]
     },
     "execution_count": 10,
     "metadata": {},
     "output_type": "execute_result"
    },
    {
     "data": {
      "image/png": "[encoded data removed]",
      "text/plain": [
       "<Figure size 640x480 with 1 Axes>"
      ]
     },
     "metadata": {},
     "output_type": "display_data"
    }
   ],
   "source": [
    "frame.plot(y='Speed', x='Oarsmen', style='.', logx=True, logy=True)"
   ]
  },
  {
   "cell_type": "code",
   "execution_count": 11,
   "id": "4007d40e",
   "metadata": {},
   "outputs": [],
   "source": [
    "import math\n",
    "from sklearn.linear_model import LinearRegression\n",
    "\n",
    "def predict(x, model):\n",
    "  log_prediction = model.predict(np.array([math.log10(x)]).reshape(-1, 1))[0]\n",
    "  prediction = pow(10.0, log_prediction)\n",
    "  print(f\"prediction: {prediction}\")\n",
    "  return prediction\n",
    "\n",
    "def regress(x, y):\n",
    "  model = LinearRegression()\n",
    "\n",
    "  # log-log\n",
    "  x_log = np.log10(x)\n",
    "  y_log = np.log10(y)\n",
    "\n",
    "  model.fit(x_log.reshape(-1, 1), y_log)\n",
    "\n",
    "  r_sq = model.score(x_log.reshape(-1, 1), y_log)\n",
    "  print(f\"coefficient of determination: {r_sq}\")\n",
    "  print(f\"intercept: {model.intercept_}\")\n",
    "  print(f\"slope: {model.coef_}\")\n",
    "\n",
    "  this_normalize = lambda pair: normalize(pair, model)\n",
    "\n",
    "  zipped_array = np.array(list(zip(x, y)))\n",
    "  # print(f\"Zipped: {zipped_array}\")\n",
    "\n",
    "  return model"
   ]
  },
  {
   "cell_type": "code",
   "execution_count": 12,
   "id": "158c4367",
   "metadata": {},
   "outputs": [
    {
     "name": "stdout",
     "output_type": "stream",
     "text": [
      "coefficient of determination: 0.7922683218531237\n",
      "intercept: 1.257956799517139\n",
      "slope: [0.10456347]\n"
     ]
    }
   ],
   "source": [
    "model = regress(frame[\"Oarsmen\"].to_numpy(), frame[\"Speed\"].to_numpy())"
   ]
  },
  {
   "cell_type": "code",
   "execution_count": 13,
   "id": "4c39f089",
   "metadata": {},
   "outputs": [
    {
     "name": "stdout",
     "output_type": "stream",
     "text": [
      "prediction: 18.111599225320116\n",
      "prediction: 19.47303030758906\n",
      "prediction: 19.47303030758906\n",
      "prediction: 19.47303030758906\n",
      "prediction: 20.936798823935977\n",
      "prediction: 20.936798823935977\n",
      "prediction: 20.936798823935977\n",
      "prediction: 22.510597378525762\n"
     ]
    },
    {
     "data": {
      "text/html": [
       "<div>\n",
       "<style scoped>\n",
       "    .dataframe tbody tr th:only-of-type {\n",
       "        vertical-align: middle;\n",
       "    }\n",
       "\n",
       "    .dataframe tbody tr th {\n",
       "        vertical-align: top;\n",
       "    }\n",
       "\n",
       "    .dataframe thead th {\n",
       "        text-align: right;\n",
       "    }\n",
       "</style>\n",
       "<table border=\"1\" class=\"dataframe\">\n",
       "  <thead>\n",
       "    <tr style=\"text-align: right;\">\n",
       "      <th></th>\n",
       "      <th>Oarsmen</th>\n",
       "      <th>Speed</th>\n",
       "      <th>Regression</th>\n",
       "    </tr>\n",
       "  </thead>\n",
       "  <tbody>\n",
       "    <tr>\n",
       "      <th>0</th>\n",
       "      <td>1</td>\n",
       "      <td>18.426575</td>\n",
       "      <td>18.111599</td>\n",
       "    </tr>\n",
       "    <tr>\n",
       "      <th>1</th>\n",
       "      <td>2</td>\n",
       "      <td>19.538670</td>\n",
       "      <td>19.473030</td>\n",
       "    </tr>\n",
       "    <tr>\n",
       "      <th>2</th>\n",
       "      <td>2</td>\n",
       "      <td>18.308498</td>\n",
       "      <td>19.473030</td>\n",
       "    </tr>\n",
       "    <tr>\n",
       "      <th>3</th>\n",
       "      <td>2</td>\n",
       "      <td>20.015568</td>\n",
       "      <td>19.473030</td>\n",
       "    </tr>\n",
       "    <tr>\n",
       "      <th>4</th>\n",
       "      <td>4</td>\n",
       "      <td>21.310602</td>\n",
       "      <td>20.936799</td>\n",
       "    </tr>\n",
       "    <tr>\n",
       "      <th>5</th>\n",
       "      <td>4</td>\n",
       "      <td>20.057945</td>\n",
       "      <td>20.936799</td>\n",
       "    </tr>\n",
       "    <tr>\n",
       "      <th>6</th>\n",
       "      <td>4</td>\n",
       "      <td>21.684788</td>\n",
       "      <td>20.936799</td>\n",
       "    </tr>\n",
       "    <tr>\n",
       "      <th>7</th>\n",
       "      <td>8</td>\n",
       "      <td>22.593197</td>\n",
       "      <td>22.510597</td>\n",
       "    </tr>\n",
       "  </tbody>\n",
       "</table>\n",
       "</div>"
      ],
      "text/plain": [
       "   Oarsmen      Speed  Regression\n",
       "0        1  18.426575   18.111599\n",
       "1        2  19.538670   19.473030\n",
       "2        2  18.308498   19.473030\n",
       "3        2  20.015568   19.473030\n",
       "4        4  21.310602   20.936799\n",
       "5        4  20.057945   20.936799\n",
       "6        4  21.684788   20.936799\n",
       "7        8  22.593197   22.510597"
      ]
     },
     "execution_count": 13,
     "metadata": {},
     "output_type": "execute_result"
    }
   ],
   "source": [
    "# frame.insert(2, 'Regression', frame[\"Axis\"].map(lambda x: predict(x, model)))\n",
    "frame[\"Regression\"] = frame[\"Oarsmen\"].map(lambda x: predict(x, model))\n",
    "frame"
   ]
  },
  {
   "cell_type": "code",
   "execution_count": 19,
   "id": "6e0ad65d",
   "metadata": {},
   "outputs": [
    {
     "data": {
      "text/plain": [
       "<AxesSubplot:xlabel='Oarsmen'>"
      ]
     },
     "execution_count": 19,
     "metadata": {},
     "output_type": "execute_result"
    },
    {
     "data": {
      "image/png": "[encoded data removed]",
      "text/plain": [
       "<Figure size 640x480 with 1 Axes>"
      ]
     },
     "metadata": {},
     "output_type": "display_data"
    }
   ],
   "source": [
    "ax = frame.plot(x='Oarsmen', y='Speed', logx=True, logy=True, style='.')\n",
    "frame.plot(x='Oarsmen', y='Regression',color='Red', ax=ax)"
   ]
  },
  {
   "cell_type": "code",
   "execution_count": null,
   "id": "fac27e15",
   "metadata": {},
   "outputs": [],
   "source": []
  }
 ],
 "metadata": {
  "kernelspec": {
   "display_name": "Python 3 (ipykernel)",
   "language": "python",
   "name": "python3"
  },
  "language_info": {
   "codemirror_mode": {
    "name": "ipython",
    "version": 3
   },
   "file_extension": ".py",
   "mimetype": "text/x-python",
   "name": "python",
   "nbconvert_exporter": "python",
   "pygments_lexer": "ipython3",
   "version": "3.10.6"
  }
 },
 "nbformat": 4,
 "nbformat_minor": 5
}
