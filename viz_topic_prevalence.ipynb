{
  "nbformat": 4,
  "nbformat_minor": 0,
  "metadata": {
    "colab": {
      "provenance": [],
      "mount_file_id": "1ixlYNRTwxf1wyjFqygZKW6kzCWgvowQc",
      "authorship_tag": "ABX9TyMJl26zWCfoa1+PQvg8bpp/",
      "include_colab_link": true
    },
    "kernelspec": {
      "name": "python3",
      "display_name": "Python 3"
    },
    "language_info": {
      "name": "python"
    }
  },
  "cells": [
    {
      "cell_type": "markdown",
      "metadata": {
        "id": "view-in-github",
        "colab_type": "text"
      },
      "source": [
        "<a href=\"https://colab.research.google.com/github/exterm/uvm-pocs/blob/main/viz_topic_prevalence.ipynb\" target=\"_parent\"><img src=\"https://colab.research.google.com/assets/colab-badge.svg\" alt=\"Open In Colab\"/></a>"
      ]
    },
    {
      "cell_type": "code",
      "source": [
        "import numpy as np \n",
        "import matplotlib as plt \n",
        "import sklearn as sk \n",
        "import seaborn as sns \n",
        "import pandas as pd \n",
        "from nltk.tokenize import word_tokenize \n",
        "from tqdm import tqdm\n",
        "import time\n",
        "import urllib.request\n",
        "from sklearn.model_selection import train_test_split\n",
        "import ssl\n",
        "import nltk\n",
        "from nltk.tokenize import sent_tokenize, word_tokenize \n",
        "from nltk.tokenize import RegexpTokenizer\n",
        "from nltk.corpus import stopwords\n",
        "import string\n",
        "import urllib.request\n",
        "from nltk.metrics import BigramAssocMeasures\n",
        "from nltk.collocations import BigramCollocationFinder\n",
        "from nltk.collocations import TrigramCollocationFinder\n",
        "from nltk.metrics import TrigramAssocMeasures\n",
        "import re\n",
        "from sklearn.feature_extraction.text import CountVectorizer, TfidfVectorizer\n",
        "from collections import Counter\n",
        "# %% Import libraries required\n",
        "from operator import itemgetter\n",
        "import pylab\n",
        "from nltk.stem import WordNetLemmatizer\n",
        "from nltk.tokenize import word_tokenize\n",
        "from nltk.probability import FreqDist\n",
        "import plotly.express as px\n",
        "import spacy \n",
        "import networkx as nx"
      ],
      "metadata": {
        "id": "6QTzzkj5AwGf"
      },
      "execution_count": 1,
      "outputs": []
    },
    {
      "cell_type": "code",
      "source": [],
      "metadata": {
        "id": "Napjap1LBIiI"
      },
      "execution_count": null,
      "outputs": []
    },
    {
      "cell_type": "code",
      "execution_count": 2,
      "metadata": {
        "id": "cF5hvsfsAUeN"
      },
      "outputs": [],
      "source": [
        "topic_metrics = pd.read_csv('/content/drive/MyDrive/RESEARCH/CODE AND DATA/Pirvacy_Policies_OT/PoCS/figures/topic_prevalence.csv')\n"
      ]
    },
    {
      "cell_type": "code",
      "source": [
        "\n",
        "topic_metrics = topic_metrics.rename(columns={\"Unnamed: 0\": \"Year\"})"
      ],
      "metadata": {
        "id": "7w06grhrA7wI"
      },
      "execution_count": 9,
      "outputs": []
    },
    {
      "cell_type": "code",
      "source": [
        "topic_metrics.info()"
      ],
      "metadata": {
        "colab": {
          "base_uri": "https://localhost:8080/"
        },
        "id": "_V3uTavNDFcN",
        "outputId": "31d26488-ced4-4723-e046-7e48dfe32b97"
      },
      "execution_count": 13,
      "outputs": [
        {
          "output_type": "stream",
          "name": "stdout",
          "text": [
            "<class 'pandas.core.frame.DataFrame'>\n",
            "RangeIndex: 23 entries, 0 to 22\n",
            "Data columns (total 36 columns):\n",
            " #   Column                                 Non-Null Count  Dtype  \n",
            "---  ------                                 --------------  -----  \n",
            " 0   Year                                   23 non-null     int64  \n",
            " 1   address-name-preferences               23 non-null     float64\n",
            " 2   cookies-analyze-preferences            23 non-null     float64\n",
            " 3   preferences-interests-physical         23 non-null     float64\n",
            " 4   age-child-gender                       23 non-null     float64\n",
            " 5   interests-behavior-exercise            23 non-null     float64\n",
            " 6   child-education-characteristics        23 non-null     float64\n",
            " 7   family-condition-household             23 non-null     float64\n",
            " 8   exercise-physical-identified           23 non-null     float64\n",
            " 9   employment-education-household         23 non-null     float64\n",
            " 10  identifiers-language-reliability       23 non-null     float64\n",
            " 11  password-exercise-identified           23 non-null     float64\n",
            " 12  professional-voice-face                23 non-null     float64\n",
            " 13  analyze-physical-combination           23 non-null     float64\n",
            " 14  condition-household-education          23 non-null     float64\n",
            " 15  health-patient-mental                  23 non-null     float64\n",
            " 16  patient-pharmacy-mental                23 non-null     float64\n",
            " 17  location-identified-behavior           23 non-null     float64\n",
            " 18  name-physical-interests                23 non-null     float64\n",
            " 19  ethnic-racial-disability               23 non-null     float64\n",
            " 20  beacons-analyze-identifiers            23 non-null     float64\n",
            " 21  hand-origin                            23 non-null     float64\n",
            " 22  reliability-height-attitudes           23 non-null     float64\n",
            " 23  fingerprint                            23 non-null     float64\n",
            " 24  identified-passwords-locate            23 non-null     float64\n",
            " 25  physical-interests-behavioral          23 non-null     float64\n",
            " 26  education-household-origin             23 non-null     float64\n",
            " 27  signature-sex-visual                   23 non-null     float64\n",
            " 28  gender-profiling-audio                 23 non-null     float64\n",
            " 29  combination-characteristics-profiling  23 non-null     float64\n",
            " 30  behavior-gender-characteristics        23 non-null     float64\n",
            " 31  locate-audio                           23 non-null     float64\n",
            " 32  voice-audio-household                  23 non-null     float64\n",
            " 33  characteristics                        23 non-null     float64\n",
            " 34  behavioral-locate-characteristics      23 non-null     float64\n",
            " 35  language-voice-audio                   23 non-null     float64\n",
            "dtypes: float64(35), int64(1)\n",
            "memory usage: 6.6 KB\n"
          ]
        }
      ]
    },
    {
      "cell_type": "code",
      "source": [
        "fig = px.line(topic_metrics, x='Year', y=topic_metrics.columns[1:36], width=900, height=825)\n",
        "fig.update_layout(showlegend=True, legend=dict(\n",
        "    title_font_family='Courier New',\n",
        "    font=dict(\n",
        "        size=10\n",
        "    )\n",
        "))\n",
        "\n",
        "fig.show()"
      ],
      "metadata": {
        "colab": {
          "base_uri": "https://localhost:8080/",
          "height": 842
        },
        "id": "LplIis9tBgEU",
        "outputId": "92a9e7b3-3a40-4c91-c0db-d39c1b52ed79"
      },
      "execution_count": 33,
      "outputs": [
        {
          "output_type": "display_data",
          "data": {
            "text/html": [
              "<html>\n",
              "<head><meta charset=\"utf-8\" /></head>\n",
              "<body>\n",
              "    <div>            <script src=\"https://cdnjs.cloudflare.com/ajax/libs/mathjax/2.7.5/MathJax.js?config=TeX-AMS-MML_SVG\"></script><script type=\"text/javascript\">if (window.MathJax) {MathJax.Hub.Config({SVG: {font: \"STIX-Web\"}});}</script>                <script type=\"text/javascript\">window.PlotlyConfig = {MathJaxConfig: 'local'};</script>\n",
              "        <script src=\"https://cdn.plot.ly/plotly-2.8.3.min.js\"></script>                <div id=\"add4b572-b383-479f-8bda-144cbff2939d\" class=\"plotly-graph-div\" style=\"height:825px; width:900px;\"></div>            <script type=\"text/javascript\">                                    window.PLOTLYENV=window.PLOTLYENV || {};                                    if (document.getElementById(\"add4b572-b383-479f-8bda-144cbff2939d\")) {                    Plotly.newPlot(                        \"add4b572-b383-479f-8bda-144cbff2939d\",                        [{\"hovertemplate\":\"variable=address-name-preferences<br>Year=%{x}<br>value=%{y}<extra></extra>\",\"legendgroup\":\"address-name-preferences\",\"line\":{\"color\":\"#636efa\",\"dash\":\"solid\"},\"marker\":{\"symbol\":\"circle\"},\"mode\":\"lines\",\"name\":\"address-name-preferences\",\"orientation\":\"v\",\"showlegend\":true,\"x\":[1997,1998,1999,2000,2001,2002,2003,2004,2005,2006,2007,2008,2009,2010,2011,2012,2013,2014,2015,2016,2017,2018,2019],\"xaxis\":\"x\",\"y\":[0.0012512661621879,0.002839645398483,0.002322547867984,0.0018777500342054,0.0017727988799502,0.0017231174235702,0.0016105333480615,0.0015557249569075,0.0015723326949265,0.0014208187427157,0.0014950706310063,0.0014432763189793,0.0015065021133024,0.001362962551119,0.0014235435464441,0.0013186027075459,0.0010641800746314,0.0012696585299895,0.0012066875710918,0.0011458928202447,0.0010736971888294,0.0008875005322198,0.0007750984354875],\"yaxis\":\"y\",\"type\":\"scatter\"},{\"hovertemplate\":\"variable=cookies-analyze-preferences<br>Year=%{x}<br>value=%{y}<extra></extra>\",\"legendgroup\":\"cookies-analyze-preferences\",\"line\":{\"color\":\"#EF553B\",\"dash\":\"solid\"},\"marker\":{\"symbol\":\"circle\"},\"mode\":\"lines\",\"name\":\"cookies-analyze-preferences\",\"orientation\":\"v\",\"showlegend\":true,\"x\":[1997,1998,1999,2000,2001,2002,2003,2004,2005,2006,2007,2008,2009,2010,2011,2012,2013,2014,2015,2016,2017,2018,2019],\"xaxis\":\"x\",\"y\":[0.0,0.0,9.135957170846406e-05,1.3508679596814545e-06,1.288920615365254e-06,1.4144195199832766e-06,1.076708508974e-06,5.723345742685388e-06,5.918595836189801e-06,2.6025627163683324e-06,1.7765745866577126e-06,4.324413791945553e-06,1.941688256356601e-06,1.4628132904561403e-06,1.2743469290575312e-06,1.2939562321657153e-06,2.3347137309248337e-06,1.7413085846948552e-06,2.014717275688277e-06,3.599175748951635e-06,3.475235953960229e-06,3.314743210567908e-06,3.120484696525399e-06],\"yaxis\":\"y\",\"type\":\"scatter\"},{\"hovertemplate\":\"variable=preferences-interests-physical<br>Year=%{x}<br>value=%{y}<extra></extra>\",\"legendgroup\":\"preferences-interests-physical\",\"line\":{\"color\":\"#00cc96\",\"dash\":\"solid\"},\"marker\":{\"symbol\":\"circle\"},\"mode\":\"lines\",\"name\":\"preferences-interests-physical\",\"orientation\":\"v\",\"showlegend\":true,\"x\":[1997,1998,1999,2000,2001,2002,2003,2004,2005,2006,2007,2008,2009,2010,2011,2012,2013,2014,2015,2016,2017,2018,2019],\"xaxis\":\"x\",\"y\":[0.0,0.0,0.0,4.2662128585346297e-08,4.28051978458166e-07,1.0522625251181786e-06,3.058819266082991e-07,0.0,0.0,0.0,0.0,0.0,1.1200834009954108e-07,0.0,3.2675562283526445e-08,0.0,0.0,3.239084570380984e-06,1.1628174607001832e-06,7.62096970018667e-08,3.254942792289675e-07,2.330533808389905e-07,6.815875751777449e-06],\"yaxis\":\"y\",\"type\":\"scatter\"},{\"hovertemplate\":\"variable=age-child-gender<br>Year=%{x}<br>value=%{y}<extra></extra>\",\"legendgroup\":\"age-child-gender\",\"line\":{\"color\":\"#ab63fa\",\"dash\":\"solid\"},\"marker\":{\"symbol\":\"circle\"},\"mode\":\"lines\",\"name\":\"age-child-gender\",\"orientation\":\"v\",\"showlegend\":true,\"x\":[1997,1998,1999,2000,2001,2002,2003,2004,2005,2006,2007,2008,2009,2010,2011,2012,2013,2014,2015,2016,2017,2018,2019],\"xaxis\":\"x\",\"y\":[0.0,0.0019717508320906,0.0017499264235481,0.001476342354277,0.001458740146649,0.0013340744078549,0.0012510372992134,0.0013314053653503,0.0013872542625274,0.0011965149360722,0.0010578480212906,0.0013099385344229,0.0012313934010448,0.0013465335667269,0.0013030033971801,0.0012073443026878,0.0009650712923618,0.0011918204218893,0.0011030785197188,0.0011323427304779,0.0010322783367286,0.000722838135684,0.00063816120466],\"yaxis\":\"y\",\"type\":\"scatter\"},{\"hovertemplate\":\"variable=interests-behavior-exercise<br>Year=%{x}<br>value=%{y}<extra></extra>\",\"legendgroup\":\"interests-behavior-exercise\",\"line\":{\"color\":\"#FFA15A\",\"dash\":\"solid\"},\"marker\":{\"symbol\":\"circle\"},\"mode\":\"lines\",\"name\":\"interests-behavior-exercise\",\"orientation\":\"v\",\"showlegend\":true,\"x\":[1997,1998,1999,2000,2001,2002,2003,2004,2005,2006,2007,2008,2009,2010,2011,2012,2013,2014,2015,2016,2017,2018,2019],\"xaxis\":\"x\",\"y\":[0.0,7.763030970656333e-05,0.0,3.1863932004800514e-05,0.0,2.625558177905721e-05,0.0,0.0,0.0,9.041826876285468e-09,2.9794847761193426e-05,2.135230736853257e-05,0.0,0.0,3.0038904208293668e-05,0.0,0.0,3.472135280716105e-05,5.964997148529929e-08,0.0,4.9036222077851205e-06,3.807475550257872e-08,3.2179360547515085e-08],\"yaxis\":\"y\",\"type\":\"scatter\"},{\"hovertemplate\":\"variable=child-education-characteristics<br>Year=%{x}<br>value=%{y}<extra></extra>\",\"legendgroup\":\"child-education-characteristics\",\"line\":{\"color\":\"#19d3f3\",\"dash\":\"solid\"},\"marker\":{\"symbol\":\"circle\"},\"mode\":\"lines\",\"name\":\"child-education-characteristics\",\"orientation\":\"v\",\"showlegend\":true,\"x\":[1997,1998,1999,2000,2001,2002,2003,2004,2005,2006,2007,2008,2009,2010,2011,2012,2013,2014,2015,2016,2017,2018,2019],\"xaxis\":\"x\",\"y\":[0.0,0.0011889539448594,0.0008775875603065,0.0006664507079088,0.0006393804716213,0.0006052636056695,0.0005938666520825,0.000574386823417,0.0005398426630857,0.0005425311238515,0.0005348069861391,0.000550427637,0.0005455165600675,0.0005451441808031,0.0004897086519432,0.000489520994231,0.0004915819025647,0.0004803949617802,0.0003541952215445,0.0004479605989769,0.0004312278395194,0.0,0.0],\"yaxis\":\"y\",\"type\":\"scatter\"},{\"hovertemplate\":\"variable=family-condition-household<br>Year=%{x}<br>value=%{y}<extra></extra>\",\"legendgroup\":\"family-condition-household\",\"line\":{\"color\":\"#FF6692\",\"dash\":\"solid\"},\"marker\":{\"symbol\":\"circle\"},\"mode\":\"lines\",\"name\":\"family-condition-household\",\"orientation\":\"v\",\"showlegend\":true,\"x\":[1997,1998,1999,2000,2001,2002,2003,2004,2005,2006,2007,2008,2009,2010,2011,2012,2013,2014,2015,2016,2017,2018,2019],\"xaxis\":\"x\",\"y\":[0.0,0.0,2.6459926441404493e-05,9.029064066108165e-06,5.365430531088198e-06,3.05915938437611e-06,1.7145950099079362e-06,1.5173911506769434e-06,2.051934461213309e-06,2.135843521087471e-06,2.197026645539157e-06,1.3690940429588796e-06,6.135624759212008e-06,7.891720974632048e-06,3.5986018593651773e-06,1.917865659612844e-06,4.522111743304911e-06,4.009392691200383e-06,2.081643212515039e-06,2.05187351782194e-06,1.4873994713832926e-06,6.122061481541834e-06,4.960119889465112e-06],\"yaxis\":\"y\",\"type\":\"scatter\"},{\"hovertemplate\":\"variable=exercise-physical-identified<br>Year=%{x}<br>value=%{y}<extra></extra>\",\"legendgroup\":\"exercise-physical-identified\",\"line\":{\"color\":\"#B6E880\",\"dash\":\"solid\"},\"marker\":{\"symbol\":\"circle\"},\"mode\":\"lines\",\"name\":\"exercise-physical-identified\",\"orientation\":\"v\",\"showlegend\":true,\"x\":[1997,1998,1999,2000,2001,2002,2003,2004,2005,2006,2007,2008,2009,2010,2011,2012,2013,2014,2015,2016,2017,2018,2019],\"xaxis\":\"x\",\"y\":[0.0,0.0,4.908736353712936e-06,0.0,0.0,0.0,0.0,0.0,0.0,0.0,9.464474124363638e-06,0.0,0.0,0.0,0.0,0.0,0.0,0.0,0.0,0.0,9.865751751365545e-08,0.0,1.7580418688726956e-08],\"yaxis\":\"y\",\"type\":\"scatter\"},{\"hovertemplate\":\"variable=employment-education-household<br>Year=%{x}<br>value=%{y}<extra></extra>\",\"legendgroup\":\"employment-education-household\",\"line\":{\"color\":\"#FF97FF\",\"dash\":\"solid\"},\"marker\":{\"symbol\":\"circle\"},\"mode\":\"lines\",\"name\":\"employment-education-household\",\"orientation\":\"v\",\"showlegend\":true,\"x\":[1997,1998,1999,2000,2001,2002,2003,2004,2005,2006,2007,2008,2009,2010,2011,2012,2013,2014,2015,2016,2017,2018,2019],\"xaxis\":\"x\",\"y\":[0.0,0.0,3.839730704858986e-05,5.231859146954633e-05,9.489669746137324e-06,8.408362051123724e-06,2.333277861667445e-05,1.815146199595678e-07,1.4656674722952205e-07,3.839915852261696e-07,7.043213013448423e-07,1.7420476725463073e-05,1.7598237836083465e-07,0.0,0.0,1.928982425596303e-05,2.008188111203877e-06,4.1847255384858403e-07,4.1459047840844415e-06,3.806934708928651e-06,0.0,2.597161198349992e-07,3.372774369084767e-07],\"yaxis\":\"y\",\"type\":\"scatter\"},{\"hovertemplate\":\"variable=identifiers-language-reliability<br>Year=%{x}<br>value=%{y}<extra></extra>\",\"legendgroup\":\"identifiers-language-reliability\",\"line\":{\"color\":\"#FECB52\",\"dash\":\"solid\"},\"marker\":{\"symbol\":\"circle\"},\"mode\":\"lines\",\"name\":\"identifiers-language-reliability\",\"orientation\":\"v\",\"showlegend\":true,\"x\":[1997,1998,1999,2000,2001,2002,2003,2004,2005,2006,2007,2008,2009,2010,2011,2012,2013,2014,2015,2016,2017,2018,2019],\"xaxis\":\"x\",\"y\":[0.0,0.0,0.0,0.0,0.0,0.0,0.0,0.0,0.0,0.0,0.0,0.0,0.0,0.0,0.0,1.567789805195972e-07,2.3029199867412306e-07,2.9048942219496e-07,0.0,0.0,9.699053272898492e-08,0.0,8.999865121449267e-08],\"yaxis\":\"y\",\"type\":\"scatter\"},{\"hovertemplate\":\"variable=password-exercise-identified<br>Year=%{x}<br>value=%{y}<extra></extra>\",\"legendgroup\":\"password-exercise-identified\",\"line\":{\"color\":\"#636efa\",\"dash\":\"solid\"},\"marker\":{\"symbol\":\"circle\"},\"mode\":\"lines\",\"name\":\"password-exercise-identified\",\"orientation\":\"v\",\"showlegend\":true,\"x\":[1997,1998,1999,2000,2001,2002,2003,2004,2005,2006,2007,2008,2009,2010,2011,2012,2013,2014,2015,2016,2017,2018,2019],\"xaxis\":\"x\",\"y\":[0.0,0.0,0.0,0.0007407484456913,0.0005487359537097,0.0007128571350774,0.0005872483252779,0.0005660989072346,0.0001998146349686,0.0002964775426898,0.0006806557549929,0.0004805532740537,0.0002766974434837,0.0004507581331621,0.0003278106542076,0.0002752442089177,0.0002888094781451,0.0003644492498066,0.0003277870628503,0.0001664482522196,0.0004492696665156,0.0002327490528774,0.0003112631468617],\"yaxis\":\"y\",\"type\":\"scatter\"},{\"hovertemplate\":\"variable=professional-voice-face<br>Year=%{x}<br>value=%{y}<extra></extra>\",\"legendgroup\":\"professional-voice-face\",\"line\":{\"color\":\"#EF553B\",\"dash\":\"solid\"},\"marker\":{\"symbol\":\"circle\"},\"mode\":\"lines\",\"name\":\"professional-voice-face\",\"orientation\":\"v\",\"showlegend\":true,\"x\":[1997,1998,1999,2000,2001,2002,2003,2004,2005,2006,2007,2008,2009,2010,2011,2012,2013,2014,2015,2016,2017,2018,2019],\"xaxis\":\"x\",\"y\":[0.0,0.0,0.0,2.0767560440404047e-06,7.92891400705256e-07,3.038471916011775e-07,4.799550291044111e-07,5.403748051850776e-07,3.690303978032903e-07,8.053391260177854e-06,5.816212600307753e-07,1.0707442498746882e-06,1.0744934899353764e-06,0.0,6.318831640471039e-06,5.869539859608742e-06,3.393107268161098e-06,1.6841671539449178e-05,2.375753727385481e-05,7.690128991642863e-08,0.0,2.766861423386124e-05,9.037271196198332e-07],\"yaxis\":\"y\",\"type\":\"scatter\"},{\"hovertemplate\":\"variable=analyze-physical-combination<br>Year=%{x}<br>value=%{y}<extra></extra>\",\"legendgroup\":\"analyze-physical-combination\",\"line\":{\"color\":\"#00cc96\",\"dash\":\"solid\"},\"marker\":{\"symbol\":\"circle\"},\"mode\":\"lines\",\"name\":\"analyze-physical-combination\",\"orientation\":\"v\",\"showlegend\":true,\"x\":[1997,1998,1999,2000,2001,2002,2003,2004,2005,2006,2007,2008,2009,2010,2011,2012,2013,2014,2015,2016,2017,2018,2019],\"xaxis\":\"x\",\"y\":[0.0,0.0,0.0,1.5999848568025667e-06,0.0,7.837479889101662e-06,0.0,0.0,0.0,0.0,0.0,0.0,0.0,0.0,6.535112456705289e-08,0.0,7.748807588940916e-08,0.0,1.0913192982275507e-07,1.5767193525467354e-07,5.824417799933346e-08,5.035845545769743e-05,1.3568356677572288e-07],\"yaxis\":\"y\",\"type\":\"scatter\"},{\"hovertemplate\":\"variable=condition-household-education<br>Year=%{x}<br>value=%{y}<extra></extra>\",\"legendgroup\":\"condition-household-education\",\"line\":{\"color\":\"#ab63fa\",\"dash\":\"solid\"},\"marker\":{\"symbol\":\"circle\"},\"mode\":\"lines\",\"name\":\"condition-household-education\",\"orientation\":\"v\",\"showlegend\":true,\"x\":[1997,1998,1999,2000,2001,2002,2003,2004,2005,2006,2007,2008,2009,2010,2011,2012,2013,2014,2015,2016,2017,2018,2019],\"xaxis\":\"x\",\"y\":[0.0,0.0,0.0,0.0,0.0,0.0,0.0,0.0,5.791349235485543e-05,0.0,0.0,0.0,0.0,0.0,0.0,0.0,0.0,0.0,6.936842518173498e-06,0.0,0.0,0.0,0.0],\"yaxis\":\"y\",\"type\":\"scatter\"},{\"hovertemplate\":\"variable=health-patient-mental<br>Year=%{x}<br>value=%{y}<extra></extra>\",\"legendgroup\":\"health-patient-mental\",\"line\":{\"color\":\"#FFA15A\",\"dash\":\"solid\"},\"marker\":{\"symbol\":\"circle\"},\"mode\":\"lines\",\"name\":\"health-patient-mental\",\"orientation\":\"v\",\"showlegend\":true,\"x\":[1997,1998,1999,2000,2001,2002,2003,2004,2005,2006,2007,2008,2009,2010,2011,2012,2013,2014,2015,2016,2017,2018,2019],\"xaxis\":\"x\",\"y\":[0.0,0.0,0.0,9.438194036124398e-05,9.46300247777542e-05,0.0001046753575066,0.0001113697750221,0.0001031603829196,0.0001023035895662,8.592861567153159e-05,7.809488282139262e-05,7.872023618695544e-05,8.316447665896492e-05,5.847447477795159e-05,5.994706911328468e-05,7.261407235363099e-05,6.98081696514755e-05,6.672352837896461e-05,6.988717777101117e-05,7.870106461995396e-05,8.884380526676744e-05,6.462024251412007e-05,0.0001089211759589],\"yaxis\":\"y\",\"type\":\"scatter\"},{\"hovertemplate\":\"variable=patient-pharmacy-mental<br>Year=%{x}<br>value=%{y}<extra></extra>\",\"legendgroup\":\"patient-pharmacy-mental\",\"line\":{\"color\":\"#19d3f3\",\"dash\":\"solid\"},\"marker\":{\"symbol\":\"circle\"},\"mode\":\"lines\",\"name\":\"patient-pharmacy-mental\",\"orientation\":\"v\",\"showlegend\":true,\"x\":[1997,1998,1999,2000,2001,2002,2003,2004,2005,2006,2007,2008,2009,2010,2011,2012,2013,2014,2015,2016,2017,2018,2019],\"xaxis\":\"x\",\"y\":[0.0,0.0,0.0,4.0863755780364e-06,0.0,6.305501454024436e-06,8.446140594099964e-06,8.755012710879505e-06,7.591130605712474e-06,0.0,0.0,0.0,2.66281045093907e-06,0.0,0.0,0.0,0.0,0.0,0.0,0.0,0.0,0.0,0.0],\"yaxis\":\"y\",\"type\":\"scatter\"},{\"hovertemplate\":\"variable=location-identified-behavior<br>Year=%{x}<br>value=%{y}<extra></extra>\",\"legendgroup\":\"location-identified-behavior\",\"line\":{\"color\":\"#FF6692\",\"dash\":\"solid\"},\"marker\":{\"symbol\":\"circle\"},\"mode\":\"lines\",\"name\":\"location-identified-behavior\",\"orientation\":\"v\",\"showlegend\":true,\"x\":[1997,1998,1999,2000,2001,2002,2003,2004,2005,2006,2007,2008,2009,2010,2011,2012,2013,2014,2015,2016,2017,2018,2019],\"xaxis\":\"x\",\"y\":[0.0,0.0,0.0,0.0,7.127205210980671e-05,0.0,4.560516433506876e-05,3.3339080600334986e-07,0.0,0.0,0.0,2.0799633593654615e-07,0.0,1.0798639791222678e-05,0.0,1.702630590717495e-07,1.9520618562171818e-07,1.1062091620624256e-06,1.6410850408323367e-06,3.993811551038044e-06,2.1385460043548293e-06,1.8974531384265456e-06,1.4419069348886626e-06],\"yaxis\":\"y\",\"type\":\"scatter\"},{\"hovertemplate\":\"variable=name-physical-interests<br>Year=%{x}<br>value=%{y}<extra></extra>\",\"legendgroup\":\"name-physical-interests\",\"line\":{\"color\":\"#B6E880\",\"dash\":\"solid\"},\"marker\":{\"symbol\":\"circle\"},\"mode\":\"lines\",\"name\":\"name-physical-interests\",\"orientation\":\"v\",\"showlegend\":true,\"x\":[1997,1998,1999,2000,2001,2002,2003,2004,2005,2006,2007,2008,2009,2010,2011,2012,2013,2014,2015,2016,2017,2018,2019],\"xaxis\":\"x\",\"y\":[0.0,0.0,0.0,0.0,0.0015971098214205,0.001493841618013,0.0,0.0,0.0013639325878333,0.0013471682252009,0.0012963963092616,0.0,0.0012807447202189,0.0012019604791486,0.00121056423148,0.0,0.0007346376288854,0.0007956766650404,0.0,0.0,0.0,0.0007763203087761,0.0],\"yaxis\":\"y\",\"type\":\"scatter\"},{\"hovertemplate\":\"variable=ethnic-racial-disability<br>Year=%{x}<br>value=%{y}<extra></extra>\",\"legendgroup\":\"ethnic-racial-disability\",\"line\":{\"color\":\"#FF97FF\",\"dash\":\"solid\"},\"marker\":{\"symbol\":\"circle\"},\"mode\":\"lines\",\"name\":\"ethnic-racial-disability\",\"orientation\":\"v\",\"showlegend\":true,\"x\":[1997,1998,1999,2000,2001,2002,2003,2004,2005,2006,2007,2008,2009,2010,2011,2012,2013,2014,2015,2016,2017,2018,2019],\"xaxis\":\"x\",\"y\":[0.0,0.0,0.0,0.0,7.588066608580048e-06,9.68145366142139e-06,1.839384354130237e-05,3.826307104261648e-05,2.470579243934094e-05,0.0,1.9591013006309804e-05,1.40309553912751e-05,2.1891054933110657e-05,0.0,0.0,2.241846122314582e-05,2.0014959440920668e-05,2.1964979463714712e-05,1.855480574119711e-05,1.763022010675775e-05,0.0,0.0,3.4450283391185387e-05],\"yaxis\":\"y\",\"type\":\"scatter\"},{\"hovertemplate\":\"variable=beacons-analyze-identifiers<br>Year=%{x}<br>value=%{y}<extra></extra>\",\"legendgroup\":\"beacons-analyze-identifiers\",\"line\":{\"color\":\"#FECB52\",\"dash\":\"solid\"},\"marker\":{\"symbol\":\"circle\"},\"mode\":\"lines\",\"name\":\"beacons-analyze-identifiers\",\"orientation\":\"v\",\"showlegend\":true,\"x\":[1997,1998,1999,2000,2001,2002,2003,2004,2005,2006,2007,2008,2009,2010,2011,2012,2013,2014,2015,2016,2017,2018,2019],\"xaxis\":\"x\",\"y\":[0.0,0.0,0.0,0.0,0.0,0.0,2.416268445491279e-07,9.097035530837496e-07,1.4656674722952205e-07,3.283424191153077e-07,4.668913110969161e-07,1.3635365563756807e-06,5.666477396376662e-08,1.2782959802044724e-07,5.364176256010963e-07,4.817800292677643e-07,4.586404185735916e-07,1.460640632555786e-07,1.873478891263535e-07,2.0420954872063898e-07,2.5239143799711164e-07,1.8622152868359036e-07,8.044840136878772e-08],\"yaxis\":\"y\",\"type\":\"scatter\"},{\"hovertemplate\":\"variable=hand-origin<br>Year=%{x}<br>value=%{y}<extra></extra>\",\"legendgroup\":\"hand-origin\",\"line\":{\"color\":\"#636efa\",\"dash\":\"solid\"},\"marker\":{\"symbol\":\"circle\"},\"mode\":\"lines\",\"name\":\"hand-origin\",\"orientation\":\"v\",\"showlegend\":true,\"x\":[1997,1998,1999,2000,2001,2002,2003,2004,2005,2006,2007,2008,2009,2010,2011,2012,2013,2014,2015,2016,2017,2018,2019],\"xaxis\":\"x\",\"y\":[0.0,0.0,0.0,0.0,0.0002762302485088,0.0,0.0,0.0,0.0,0.0,0.0,0.0,0.0,0.0,0.0,0.0,0.0,0.0,0.0,0.0,0.0,0.0,0.0],\"yaxis\":\"y\",\"type\":\"scatter\"},{\"hovertemplate\":\"variable=reliability-height-attitudes<br>Year=%{x}<br>value=%{y}<extra></extra>\",\"legendgroup\":\"reliability-height-attitudes\",\"line\":{\"color\":\"#EF553B\",\"dash\":\"solid\"},\"marker\":{\"symbol\":\"circle\"},\"mode\":\"lines\",\"name\":\"reliability-height-attitudes\",\"orientation\":\"v\",\"showlegend\":true,\"x\":[1997,1998,1999,2000,2001,2002,2003,2004,2005,2006,2007,2008,2009,2010,2011,2012,2013,2014,2015,2016,2017,2018,2019],\"xaxis\":\"x\",\"y\":[0.0,0.0,0.0,0.0,0.0,0.0,5.69040584294768e-06,0.0,0.0,0.0,0.0,0.0,0.0,0.0,0.0,0.0,0.0,0.0,0.0,0.0,0.0,0.0,0.0],\"yaxis\":\"y\",\"type\":\"scatter\"},{\"hovertemplate\":\"variable=fingerprint<br>Year=%{x}<br>value=%{y}<extra></extra>\",\"legendgroup\":\"fingerprint\",\"line\":{\"color\":\"#00cc96\",\"dash\":\"solid\"},\"marker\":{\"symbol\":\"circle\"},\"mode\":\"lines\",\"name\":\"fingerprint\",\"orientation\":\"v\",\"showlegend\":true,\"x\":[1997,1998,1999,2000,2001,2002,2003,2004,2005,2006,2007,2008,2009,2010,2011,2012,2013,2014,2015,2016,2017,2018,2019],\"xaxis\":\"x\",\"y\":[0.0,0.0,0.0,0.0,1.3413576327720496e-06,0.0,0.0,0.0,0.0,0.0,0.0,0.0,0.0,0.0,0.0,0.0,0.0,0.0,0.0,0.0,0.0,0.0,0.0],\"yaxis\":\"y\",\"type\":\"scatter\"},{\"hovertemplate\":\"variable=identified-passwords-locate<br>Year=%{x}<br>value=%{y}<extra></extra>\",\"legendgroup\":\"identified-passwords-locate\",\"line\":{\"color\":\"#ab63fa\",\"dash\":\"solid\"},\"marker\":{\"symbol\":\"circle\"},\"mode\":\"lines\",\"name\":\"identified-passwords-locate\",\"orientation\":\"v\",\"showlegend\":true,\"x\":[1997,1998,1999,2000,2001,2002,2003,2004,2005,2006,2007,2008,2009,2010,2011,2012,2013,2014,2015,2016,2017,2018,2019],\"xaxis\":\"x\",\"y\":[0.0,0.0,0.0,0.0,0.0,5.803224455731019e-06,0.0,0.0,0.0,1.0905788019862931e-05,8.450102482842913e-08,0.0,0.0,5.671895716024782e-07,5.720089587203917e-06,0.0,0.0,0.0,0.0,0.0,5.430354245736655e-06,0.0,1.1074104426926209e-05],\"yaxis\":\"y\",\"type\":\"scatter\"},{\"hovertemplate\":\"variable=physical-interests-behavioral<br>Year=%{x}<br>value=%{y}<extra></extra>\",\"legendgroup\":\"physical-interests-behavioral\",\"line\":{\"color\":\"#FFA15A\",\"dash\":\"solid\"},\"marker\":{\"symbol\":\"circle\"},\"mode\":\"lines\",\"name\":\"physical-interests-behavioral\",\"orientation\":\"v\",\"showlegend\":true,\"x\":[1997,1998,1999,2000,2001,2002,2003,2004,2005,2006,2007,2008,2009,2010,2011,2012,2013,2014,2015,2016,2017,2018,2019],\"xaxis\":\"x\",\"y\":[0.0,0.0,0.0,0.0,0.0,0.0,0.0,0.0,0.0,0.0,7.727375122721945e-08,1.1723833796062881e-07,0.0,6.973318233482023e-08,1.3070224913410578e-07,5.8740201666131085e-08,0.0,0.0,0.0,0.0,1.8105041870138e-07,0.0,0.0],\"yaxis\":\"y\",\"type\":\"scatter\"},{\"hovertemplate\":\"variable=education-household-origin<br>Year=%{x}<br>value=%{y}<extra></extra>\",\"legendgroup\":\"education-household-origin\",\"line\":{\"color\":\"#19d3f3\",\"dash\":\"solid\"},\"marker\":{\"symbol\":\"circle\"},\"mode\":\"lines\",\"name\":\"education-household-origin\",\"orientation\":\"v\",\"showlegend\":true,\"x\":[1997,1998,1999,2000,2001,2002,2003,2004,2005,2006,2007,2008,2009,2010,2011,2012,2013,2014,2015,2016,2017,2018,2019],\"xaxis\":\"x\",\"y\":[0.0,0.0,0.0,0.0,0.0,0.0,1.8040946354251172e-05,1.0988208139526045e-05,2.905042436499649e-05,1.4530656338758163e-05,3.763612467521913e-05,0.0,3.4023328348650464e-05,0.0,0.0,1.0534488576179923e-06,0.0,1.4037447291266392e-06,0.0,5.764433671796242e-07,1.4364314794339226e-05,0.0,0.0],\"yaxis\":\"y\",\"type\":\"scatter\"},{\"hovertemplate\":\"variable=signature-sex-visual<br>Year=%{x}<br>value=%{y}<extra></extra>\",\"legendgroup\":\"signature-sex-visual\",\"line\":{\"color\":\"#FF6692\",\"dash\":\"solid\"},\"marker\":{\"symbol\":\"circle\"},\"mode\":\"lines\",\"name\":\"signature-sex-visual\",\"orientation\":\"v\",\"showlegend\":true,\"x\":[1997,1998,1999,2000,2001,2002,2003,2004,2005,2006,2007,2008,2009,2010,2011,2012,2013,2014,2015,2016,2017,2018,2019],\"xaxis\":\"x\",\"y\":[0.0,0.0,0.0,0.0,0.0,0.0,0.0,0.0,0.0,0.0,1.636631212699711e-05,0.0,0.0,0.0,0.0,0.0,0.0,0.0,0.0,0.0,0.0,0.0,0.0],\"yaxis\":\"y\",\"type\":\"scatter\"},{\"hovertemplate\":\"variable=gender-profiling-audio<br>Year=%{x}<br>value=%{y}<extra></extra>\",\"legendgroup\":\"gender-profiling-audio\",\"line\":{\"color\":\"#B6E880\",\"dash\":\"solid\"},\"marker\":{\"symbol\":\"circle\"},\"mode\":\"lines\",\"name\":\"gender-profiling-audio\",\"orientation\":\"v\",\"showlegend\":true,\"x\":[1997,1998,1999,2000,2001,2002,2003,2004,2005,2006,2007,2008,2009,2010,2011,2012,2013,2014,2015,2016,2017,2018,2019],\"xaxis\":\"x\",\"y\":[0.0,0.0,0.0,0.0,0.0,0.0,0.0,0.0,0.0,0.0,0.0001241855773883,0.0,0.0,0.0,0.0,0.0,0.0,0.0,0.0,0.0,0.0,0.0,0.0],\"yaxis\":\"y\",\"type\":\"scatter\"},{\"hovertemplate\":\"variable=combination-characteristics-profiling<br>Year=%{x}<br>value=%{y}<extra></extra>\",\"legendgroup\":\"combination-characteristics-profiling\",\"line\":{\"color\":\"#FF97FF\",\"dash\":\"solid\"},\"marker\":{\"symbol\":\"circle\"},\"mode\":\"lines\",\"name\":\"combination-characteristics-profiling\",\"orientation\":\"v\",\"showlegend\":true,\"x\":[1997,1998,1999,2000,2001,2002,2003,2004,2005,2006,2007,2008,2009,2010,2011,2012,2013,2014,2015,2016,2017,2018,2019],\"xaxis\":\"x\",\"y\":[0.0,0.0,0.0,0.0,0.0,0.0,0.0,0.0,0.0,0.0,0.0,5.285405818282122e-07,0.0,0.0,0.0,0.0,0.0,0.0,0.0,0.0,0.0,0.0,0.0],\"yaxis\":\"y\",\"type\":\"scatter\"},{\"hovertemplate\":\"variable=behavior-gender-characteristics<br>Year=%{x}<br>value=%{y}<extra></extra>\",\"legendgroup\":\"behavior-gender-characteristics\",\"line\":{\"color\":\"#FECB52\",\"dash\":\"solid\"},\"marker\":{\"symbol\":\"circle\"},\"mode\":\"lines\",\"name\":\"behavior-gender-characteristics\",\"orientation\":\"v\",\"showlegend\":true,\"x\":[1997,1998,1999,2000,2001,2002,2003,2004,2005,2006,2007,2008,2009,2010,2011,2012,2013,2014,2015,2016,2017,2018,2019],\"xaxis\":\"x\",\"y\":[0.0,0.0,0.0,0.0,0.0,0.0,0.0,0.0,0.0,0.0,0.0,0.0,0.0,0.0,0.0,0.0001134884135403,0.0,0.0,0.0001175502194218,0.00015536482059,0.0001544259049944,0.0,0.0001341075485589],\"yaxis\":\"y\",\"type\":\"scatter\"},{\"hovertemplate\":\"variable=locate-audio<br>Year=%{x}<br>value=%{y}<extra></extra>\",\"legendgroup\":\"locate-audio\",\"line\":{\"color\":\"#636efa\",\"dash\":\"solid\"},\"marker\":{\"symbol\":\"circle\"},\"mode\":\"lines\",\"name\":\"locate-audio\",\"orientation\":\"v\",\"showlegend\":true,\"x\":[1997,1998,1999,2000,2001,2002,2003,2004,2005,2006,2007,2008,2009,2010,2011,2012,2013,2014,2015,2016,2017,2018,2019],\"xaxis\":\"x\",\"y\":[0.0,0.0,0.0,0.0,0.0,0.0,0.0,0.0,0.0,0.0,0.0,0.0,0.0,0.0,0.0,4.685676247233491e-06,0.0,0.0,0.0,0.0,0.0,0.0,0.0],\"yaxis\":\"y\",\"type\":\"scatter\"},{\"hovertemplate\":\"variable=voice-audio-household<br>Year=%{x}<br>value=%{y}<extra></extra>\",\"legendgroup\":\"voice-audio-household\",\"line\":{\"color\":\"#EF553B\",\"dash\":\"solid\"},\"marker\":{\"symbol\":\"circle\"},\"mode\":\"lines\",\"name\":\"voice-audio-household\",\"orientation\":\"v\",\"showlegend\":true,\"x\":[1997,1998,1999,2000,2001,2002,2003,2004,2005,2006,2007,2008,2009,2010,2011,2012,2013,2014,2015,2016,2017,2018,2019],\"xaxis\":\"x\",\"y\":[0.0,0.0,0.0,0.0,0.0,0.0,0.0,0.0,0.0,0.0,0.0,0.0,0.0,0.0,0.0,1.0871776345446894e-05,0.0,0.0,0.0,3.287964109804012e-05,1.4108685788007095e-05,0.0,3.0927881612659426e-05],\"yaxis\":\"y\",\"type\":\"scatter\"},{\"hovertemplate\":\"variable=characteristics<br>Year=%{x}<br>value=%{y}<extra></extra>\",\"legendgroup\":\"characteristics\",\"line\":{\"color\":\"#00cc96\",\"dash\":\"solid\"},\"marker\":{\"symbol\":\"circle\"},\"mode\":\"lines\",\"name\":\"characteristics\",\"orientation\":\"v\",\"showlegend\":true,\"x\":[1997,1998,1999,2000,2001,2002,2003,2004,2005,2006,2007,2008,2009,2010,2011,2012,2013,2014,2015,2016,2017,2018,2019],\"xaxis\":\"x\",\"y\":[0.0,0.0,0.0,0.0,0.0,0.0,0.0,0.0,0.0,0.0,0.0,0.0,0.0,0.0,0.0,0.0,0.0,0.0,0.0,0.0,0.0,0.0,0.0],\"yaxis\":\"y\",\"type\":\"scatter\"},{\"hovertemplate\":\"variable=behavioral-locate-characteristics<br>Year=%{x}<br>value=%{y}<extra></extra>\",\"legendgroup\":\"behavioral-locate-characteristics\",\"line\":{\"color\":\"#ab63fa\",\"dash\":\"solid\"},\"marker\":{\"symbol\":\"circle\"},\"mode\":\"lines\",\"name\":\"behavioral-locate-characteristics\",\"orientation\":\"v\",\"showlegend\":true,\"x\":[1997,1998,1999,2000,2001,2002,2003,2004,2005,2006,2007,2008,2009,2010,2011,2012,2013,2014,2015,2016,2017,2018,2019],\"xaxis\":\"x\",\"y\":[0.0,0.0,0.0,0.0,0.0,0.0,0.0,0.0,0.0,0.0,0.0,0.0,0.0,0.0,0.0,0.0,7.911201613696062e-06,0.0,5.4064492007319885e-08,9.526212125233339e-08,0.0,1.8622152868359032e-08,1.6089680273757542e-08],\"yaxis\":\"y\",\"type\":\"scatter\"},{\"hovertemplate\":\"variable=language-voice-audio<br>Year=%{x}<br>value=%{y}<extra></extra>\",\"legendgroup\":\"language-voice-audio\",\"line\":{\"color\":\"#FFA15A\",\"dash\":\"solid\"},\"marker\":{\"symbol\":\"circle\"},\"mode\":\"lines\",\"name\":\"language-voice-audio\",\"orientation\":\"v\",\"showlegend\":true,\"x\":[1997,1998,1999,2000,2001,2002,2003,2004,2005,2006,2007,2008,2009,2010,2011,2012,2013,2014,2015,2016,2017,2018,2019],\"xaxis\":\"x\",\"y\":[0.0,0.0,0.0,0.0,0.0,0.0,0.0,0.0,0.0,0.0,0.0,0.0,0.0,0.0,0.0,0.0,0.0,0.0,0.0,1.3578307933330068e-05,0.0,5.347071030411285e-06,1.6089680273757544e-07],\"yaxis\":\"y\",\"type\":\"scatter\"}],                        {\"template\":{\"data\":{\"bar\":[{\"error_x\":{\"color\":\"#2a3f5f\"},\"error_y\":{\"color\":\"#2a3f5f\"},\"marker\":{\"line\":{\"color\":\"#E5ECF6\",\"width\":0.5},\"pattern\":{\"fillmode\":\"overlay\",\"size\":10,\"solidity\":0.2}},\"type\":\"bar\"}],\"barpolar\":[{\"marker\":{\"line\":{\"color\":\"#E5ECF6\",\"width\":0.5},\"pattern\":{\"fillmode\":\"overlay\",\"size\":10,\"solidity\":0.2}},\"type\":\"barpolar\"}],\"carpet\":[{\"aaxis\":{\"endlinecolor\":\"#2a3f5f\",\"gridcolor\":\"white\",\"linecolor\":\"white\",\"minorgridcolor\":\"white\",\"startlinecolor\":\"#2a3f5f\"},\"baxis\":{\"endlinecolor\":\"#2a3f5f\",\"gridcolor\":\"white\",\"linecolor\":\"white\",\"minorgridcolor\":\"white\",\"startlinecolor\":\"#2a3f5f\"},\"type\":\"carpet\"}],\"choropleth\":[{\"colorbar\":{\"outlinewidth\":0,\"ticks\":\"\"},\"type\":\"choropleth\"}],\"contour\":[{\"colorbar\":{\"outlinewidth\":0,\"ticks\":\"\"},\"colorscale\":[[0.0,\"#0d0887\"],[0.1111111111111111,\"#46039f\"],[0.2222222222222222,\"#7201a8\"],[0.3333333333333333,\"#9c179e\"],[0.4444444444444444,\"#bd3786\"],[0.5555555555555556,\"#d8576b\"],[0.6666666666666666,\"#ed7953\"],[0.7777777777777778,\"#fb9f3a\"],[0.8888888888888888,\"#fdca26\"],[1.0,\"#f0f921\"]],\"type\":\"contour\"}],\"contourcarpet\":[{\"colorbar\":{\"outlinewidth\":0,\"ticks\":\"\"},\"type\":\"contourcarpet\"}],\"heatmap\":[{\"colorbar\":{\"outlinewidth\":0,\"ticks\":\"\"},\"colorscale\":[[0.0,\"#0d0887\"],[0.1111111111111111,\"#46039f\"],[0.2222222222222222,\"#7201a8\"],[0.3333333333333333,\"#9c179e\"],[0.4444444444444444,\"#bd3786\"],[0.5555555555555556,\"#d8576b\"],[0.6666666666666666,\"#ed7953\"],[0.7777777777777778,\"#fb9f3a\"],[0.8888888888888888,\"#fdca26\"],[1.0,\"#f0f921\"]],\"type\":\"heatmap\"}],\"heatmapgl\":[{\"colorbar\":{\"outlinewidth\":0,\"ticks\":\"\"},\"colorscale\":[[0.0,\"#0d0887\"],[0.1111111111111111,\"#46039f\"],[0.2222222222222222,\"#7201a8\"],[0.3333333333333333,\"#9c179e\"],[0.4444444444444444,\"#bd3786\"],[0.5555555555555556,\"#d8576b\"],[0.6666666666666666,\"#ed7953\"],[0.7777777777777778,\"#fb9f3a\"],[0.8888888888888888,\"#fdca26\"],[1.0,\"#f0f921\"]],\"type\":\"heatmapgl\"}],\"histogram\":[{\"marker\":{\"pattern\":{\"fillmode\":\"overlay\",\"size\":10,\"solidity\":0.2}},\"type\":\"histogram\"}],\"histogram2d\":[{\"colorbar\":{\"outlinewidth\":0,\"ticks\":\"\"},\"colorscale\":[[0.0,\"#0d0887\"],[0.1111111111111111,\"#46039f\"],[0.2222222222222222,\"#7201a8\"],[0.3333333333333333,\"#9c179e\"],[0.4444444444444444,\"#bd3786\"],[0.5555555555555556,\"#d8576b\"],[0.6666666666666666,\"#ed7953\"],[0.7777777777777778,\"#fb9f3a\"],[0.8888888888888888,\"#fdca26\"],[1.0,\"#f0f921\"]],\"type\":\"histogram2d\"}],\"histogram2dcontour\":[{\"colorbar\":{\"outlinewidth\":0,\"ticks\":\"\"},\"colorscale\":[[0.0,\"#0d0887\"],[0.1111111111111111,\"#46039f\"],[0.2222222222222222,\"#7201a8\"],[0.3333333333333333,\"#9c179e\"],[0.4444444444444444,\"#bd3786\"],[0.5555555555555556,\"#d8576b\"],[0.6666666666666666,\"#ed7953\"],[0.7777777777777778,\"#fb9f3a\"],[0.8888888888888888,\"#fdca26\"],[1.0,\"#f0f921\"]],\"type\":\"histogram2dcontour\"}],\"mesh3d\":[{\"colorbar\":{\"outlinewidth\":0,\"ticks\":\"\"},\"type\":\"mesh3d\"}],\"parcoords\":[{\"line\":{\"colorbar\":{\"outlinewidth\":0,\"ticks\":\"\"}},\"type\":\"parcoords\"}],\"pie\":[{\"automargin\":true,\"type\":\"pie\"}],\"scatter\":[{\"marker\":{\"colorbar\":{\"outlinewidth\":0,\"ticks\":\"\"}},\"type\":\"scatter\"}],\"scatter3d\":[{\"line\":{\"colorbar\":{\"outlinewidth\":0,\"ticks\":\"\"}},\"marker\":{\"colorbar\":{\"outlinewidth\":0,\"ticks\":\"\"}},\"type\":\"scatter3d\"}],\"scattercarpet\":[{\"marker\":{\"colorbar\":{\"outlinewidth\":0,\"ticks\":\"\"}},\"type\":\"scattercarpet\"}],\"scattergeo\":[{\"marker\":{\"colorbar\":{\"outlinewidth\":0,\"ticks\":\"\"}},\"type\":\"scattergeo\"}],\"scattergl\":[{\"marker\":{\"colorbar\":{\"outlinewidth\":0,\"ticks\":\"\"}},\"type\":\"scattergl\"}],\"scattermapbox\":[{\"marker\":{\"colorbar\":{\"outlinewidth\":0,\"ticks\":\"\"}},\"type\":\"scattermapbox\"}],\"scatterpolar\":[{\"marker\":{\"colorbar\":{\"outlinewidth\":0,\"ticks\":\"\"}},\"type\":\"scatterpolar\"}],\"scatterpolargl\":[{\"marker\":{\"colorbar\":{\"outlinewidth\":0,\"ticks\":\"\"}},\"type\":\"scatterpolargl\"}],\"scatterternary\":[{\"marker\":{\"colorbar\":{\"outlinewidth\":0,\"ticks\":\"\"}},\"type\":\"scatterternary\"}],\"surface\":[{\"colorbar\":{\"outlinewidth\":0,\"ticks\":\"\"},\"colorscale\":[[0.0,\"#0d0887\"],[0.1111111111111111,\"#46039f\"],[0.2222222222222222,\"#7201a8\"],[0.3333333333333333,\"#9c179e\"],[0.4444444444444444,\"#bd3786\"],[0.5555555555555556,\"#d8576b\"],[0.6666666666666666,\"#ed7953\"],[0.7777777777777778,\"#fb9f3a\"],[0.8888888888888888,\"#fdca26\"],[1.0,\"#f0f921\"]],\"type\":\"surface\"}],\"table\":[{\"cells\":{\"fill\":{\"color\":\"#EBF0F8\"},\"line\":{\"color\":\"white\"}},\"header\":{\"fill\":{\"color\":\"#C8D4E3\"},\"line\":{\"color\":\"white\"}},\"type\":\"table\"}]},\"layout\":{\"annotationdefaults\":{\"arrowcolor\":\"#2a3f5f\",\"arrowhead\":0,\"arrowwidth\":1},\"autotypenumbers\":\"strict\",\"coloraxis\":{\"colorbar\":{\"outlinewidth\":0,\"ticks\":\"\"}},\"colorscale\":{\"diverging\":[[0,\"#8e0152\"],[0.1,\"#c51b7d\"],[0.2,\"#de77ae\"],[0.3,\"#f1b6da\"],[0.4,\"#fde0ef\"],[0.5,\"#f7f7f7\"],[0.6,\"#e6f5d0\"],[0.7,\"#b8e186\"],[0.8,\"#7fbc41\"],[0.9,\"#4d9221\"],[1,\"#276419\"]],\"sequential\":[[0.0,\"#0d0887\"],[0.1111111111111111,\"#46039f\"],[0.2222222222222222,\"#7201a8\"],[0.3333333333333333,\"#9c179e\"],[0.4444444444444444,\"#bd3786\"],[0.5555555555555556,\"#d8576b\"],[0.6666666666666666,\"#ed7953\"],[0.7777777777777778,\"#fb9f3a\"],[0.8888888888888888,\"#fdca26\"],[1.0,\"#f0f921\"]],\"sequentialminus\":[[0.0,\"#0d0887\"],[0.1111111111111111,\"#46039f\"],[0.2222222222222222,\"#7201a8\"],[0.3333333333333333,\"#9c179e\"],[0.4444444444444444,\"#bd3786\"],[0.5555555555555556,\"#d8576b\"],[0.6666666666666666,\"#ed7953\"],[0.7777777777777778,\"#fb9f3a\"],[0.8888888888888888,\"#fdca26\"],[1.0,\"#f0f921\"]]},\"colorway\":[\"#636efa\",\"#EF553B\",\"#00cc96\",\"#ab63fa\",\"#FFA15A\",\"#19d3f3\",\"#FF6692\",\"#B6E880\",\"#FF97FF\",\"#FECB52\"],\"font\":{\"color\":\"#2a3f5f\"},\"geo\":{\"bgcolor\":\"white\",\"lakecolor\":\"white\",\"landcolor\":\"#E5ECF6\",\"showlakes\":true,\"showland\":true,\"subunitcolor\":\"white\"},\"hoverlabel\":{\"align\":\"left\"},\"hovermode\":\"closest\",\"mapbox\":{\"style\":\"light\"},\"paper_bgcolor\":\"white\",\"plot_bgcolor\":\"#E5ECF6\",\"polar\":{\"angularaxis\":{\"gridcolor\":\"white\",\"linecolor\":\"white\",\"ticks\":\"\"},\"bgcolor\":\"#E5ECF6\",\"radialaxis\":{\"gridcolor\":\"white\",\"linecolor\":\"white\",\"ticks\":\"\"}},\"scene\":{\"xaxis\":{\"backgroundcolor\":\"#E5ECF6\",\"gridcolor\":\"white\",\"gridwidth\":2,\"linecolor\":\"white\",\"showbackground\":true,\"ticks\":\"\",\"zerolinecolor\":\"white\"},\"yaxis\":{\"backgroundcolor\":\"#E5ECF6\",\"gridcolor\":\"white\",\"gridwidth\":2,\"linecolor\":\"white\",\"showbackground\":true,\"ticks\":\"\",\"zerolinecolor\":\"white\"},\"zaxis\":{\"backgroundcolor\":\"#E5ECF6\",\"gridcolor\":\"white\",\"gridwidth\":2,\"linecolor\":\"white\",\"showbackground\":true,\"ticks\":\"\",\"zerolinecolor\":\"white\"}},\"shapedefaults\":{\"line\":{\"color\":\"#2a3f5f\"}},\"ternary\":{\"aaxis\":{\"gridcolor\":\"white\",\"linecolor\":\"white\",\"ticks\":\"\"},\"baxis\":{\"gridcolor\":\"white\",\"linecolor\":\"white\",\"ticks\":\"\"},\"bgcolor\":\"#E5ECF6\",\"caxis\":{\"gridcolor\":\"white\",\"linecolor\":\"white\",\"ticks\":\"\"}},\"title\":{\"x\":0.05},\"xaxis\":{\"automargin\":true,\"gridcolor\":\"white\",\"linecolor\":\"white\",\"ticks\":\"\",\"title\":{\"standoff\":15},\"zerolinecolor\":\"white\",\"zerolinewidth\":2},\"yaxis\":{\"automargin\":true,\"gridcolor\":\"white\",\"linecolor\":\"white\",\"ticks\":\"\",\"title\":{\"standoff\":15},\"zerolinecolor\":\"white\",\"zerolinewidth\":2}}},\"xaxis\":{\"anchor\":\"y\",\"domain\":[0.0,1.0],\"title\":{\"text\":\"Year\"}},\"yaxis\":{\"anchor\":\"x\",\"domain\":[0.0,1.0],\"title\":{\"text\":\"value\"}},\"legend\":{\"title\":{\"text\":\"variable\",\"font\":{\"family\":\"Courier New\"}},\"tracegroupgap\":0,\"font\":{\"size\":10}},\"margin\":{\"t\":60},\"height\":825,\"width\":900,\"showlegend\":true},                        {\"responsive\": true}                    ).then(function(){\n",
              "                            \n",
              "var gd = document.getElementById('add4b572-b383-479f-8bda-144cbff2939d');\n",
              "var x = new MutationObserver(function (mutations, observer) {{\n",
              "        var display = window.getComputedStyle(gd).display;\n",
              "        if (!display || display === 'none') {{\n",
              "            console.log([gd, 'removed!']);\n",
              "            Plotly.purge(gd);\n",
              "            observer.disconnect();\n",
              "        }}\n",
              "}});\n",
              "\n",
              "// Listen for the removal of the full notebook cells\n",
              "var notebookContainer = gd.closest('#notebook-container');\n",
              "if (notebookContainer) {{\n",
              "    x.observe(notebookContainer, {childList: true});\n",
              "}}\n",
              "\n",
              "// Listen for the clearing of the current output cell\n",
              "var outputEl = gd.closest('.output');\n",
              "if (outputEl) {{\n",
              "    x.observe(outputEl, {childList: true});\n",
              "}}\n",
              "\n",
              "                        })                };                            </script>        </div>\n",
              "</body>\n",
              "</html>"
            ]
          },
          "metadata": {}
        }
      ]
    }
  ]
}